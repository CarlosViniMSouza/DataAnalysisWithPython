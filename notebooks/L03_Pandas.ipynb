{
 "cells": [
  {
   "cell_type": "code",
   "execution_count": 1,
   "metadata": {
    "collapsed": false,
    "pycharm": {
     "name": "#%%\n"
    }
   },
   "outputs": [
    {
     "name": "stderr",
     "output_type": "stream",
     "text": [
      "  ERROR: Command errored out with exit status 1:\n",
      "   command: 'E:\\Programacao\\PythonDjango\\DataAnalysis_Python\\venv\\Scripts\\python.exe' 'E:\\Programacao\\PythonDjango\\DataAnalysis_Python\\venv\\lib\\site-packages\\pip\\_vendor\\pep517\\in_process\\_in_process.py' build_wheel 'C:\\Users\\CARLOS~1\\AppData\\Local\\Temp\\tmphe_ox8fr'\n",
      "       cwd: C:\\Users\\CarlosViniMSouza\\AppData\\Local\\Temp\\pip-install-yzdb69oc\\phik_f40de91ffce24b3ea751d553150b5e7c\n",
      "  Complete output (109 lines):\n",
      "  running bdist_wheel\n",
      "  running build\n",
      "  running build_py\n",
      "  creating build\n",
      "  creating build\\lib.win-amd64-3.10\n",
      "  creating build\\lib.win-amd64-3.10\\phik\n",
      "  copying phik\\betainc.py -> build\\lib.win-amd64-3.10\\phik\n",
      "  copying phik\\binning.py -> build\\lib.win-amd64-3.10\\phik\n",
      "  copying phik\\bivariate.py -> build\\lib.win-amd64-3.10\\phik\n",
      "  copying phik\\data_quality.py -> build\\lib.win-amd64-3.10\\phik\n",
      "  copying phik\\definitions.py -> build\\lib.win-amd64-3.10\\phik\n",
      "  copying phik\\entry_points.py -> build\\lib.win-amd64-3.10\\phik\n",
      "  copying phik\\outliers.py -> build\\lib.win-amd64-3.10\\phik\n",
      "  copying phik\\phik.py -> build\\lib.win-amd64-3.10\\phik\n",
      "  copying phik\\report.py -> build\\lib.win-amd64-3.10\\phik\n",
      "  copying phik\\resources.py -> build\\lib.win-amd64-3.10\\phik\n",
      "  copying phik\\significance.py -> build\\lib.win-amd64-3.10\\phik\n",
      "  copying phik\\simulation.py -> build\\lib.win-amd64-3.10\\phik\n",
      "  copying phik\\statistics.py -> build\\lib.win-amd64-3.10\\phik\n",
      "  copying phik\\utils.py -> build\\lib.win-amd64-3.10\\phik\n",
      "  copying phik\\version.py -> build\\lib.win-amd64-3.10\\phik\n",
      "  copying phik\\__init__.py -> build\\lib.win-amd64-3.10\\phik\n",
      "  creating build\\lib.win-amd64-3.10\\phik\\decorators\n",
      "  copying phik\\decorators\\pandas.py -> build\\lib.win-amd64-3.10\\phik\\decorators\n",
      "  copying phik\\decorators\\__init__.py -> build\\lib.win-amd64-3.10\\phik\\decorators\n",
      "  creating build\\lib.win-amd64-3.10\\phik\\simcore\n",
      "  copying phik\\simcore\\__init__.py -> build\\lib.win-amd64-3.10\\phik\\simcore\n",
      "  running egg_info\n",
      "  warning: no previously-included files matching '*.py[cod]' found anywhere in distribution\n",
      "  warning: no previously-included files matching '__pycache__' found anywhere in distribution\n",
      "  warning: no previously-included files matching '*.so' found anywhere in distribution\n",
      "  warning: no previously-included files found matching 'docs'\n",
      "  warning: no previously-included files found matching 'tests'\n",
      "  warning: no previously-included files found matching '.readthedocs.yml'\n",
      "  warning: no previously-included files matching '*.py' found under directory 'tests'\n",
      "  warning: no previously-included files matching '*' found under directory 'docs'\n",
      "  writing manifest file 'phik.egg-info\\SOURCES.txt'\n",
      "  copying phik\\simcore\\CMakeLists.txt -> build\\lib.win-amd64-3.10\\phik\\simcore\n",
      "  copying phik\\simcore\\asa159.cpp -> build\\lib.win-amd64-3.10\\phik\\simcore\n",
      "  copying phik\\simcore\\asa159.hpp -> build\\lib.win-amd64-3.10\\phik\\simcore\n",
      "  copying phik\\simcore\\bindings.cpp -> build\\lib.win-amd64-3.10\\phik\\simcore\n",
      "  copying phik\\simcore\\simulation.hpp -> build\\lib.win-amd64-3.10\\phik\\simcore\n",
      "  running build_ext\n",
      "  -- Building for: NMake Makefiles\n",
      "  CMake Error at CMakeLists.txt:3 (PROJECT):\n",
      "    Generator\n",
      "  \n",
      "      NMake Makefiles\n",
      "  \n",
      "    does not support platform specification, but platform\n",
      "  \n",
      "      x64\n",
      "  \n",
      "    was specified.\n",
      "  \n",
      "  \n",
      "  CMake Error: CMAKE_CXX_COMPILER not set, after EnableLanguage\n",
      "  -- Configuring incomplete, errors occurred!\n",
      "  See also \"C:/Users/CarlosViniMSouza/AppData/Local/Temp/pip-install-yzdb69oc/phik_f40de91ffce24b3ea751d553150b5e7c/build/temp.win-amd64-3.10/Release/CMakeFiles/CMakeOutput.log\".\n",
      "  Traceback (most recent call last):\n",
      "    File \"E:\\Programacao\\PythonDjango\\DataAnalysis_Python\\venv\\lib\\site-packages\\pip\\_vendor\\pep517\\in_process\\_in_process.py\", line 363, in <module>\n",
      "      main()\n",
      "    File \"E:\\Programacao\\PythonDjango\\DataAnalysis_Python\\venv\\lib\\site-packages\\pip\\_vendor\\pep517\\in_process\\_in_process.py\", line 345, in main\n",
      "      json_out['return_val'] = hook(**hook_input['kwargs'])\n",
      "    File \"E:\\Programacao\\PythonDjango\\DataAnalysis_Python\\venv\\lib\\site-packages\\pip\\_vendor\\pep517\\in_process\\_in_process.py\", line 261, in build_wheel\n",
      "      return _build_backend().build_wheel(wheel_directory, config_settings,\n",
      "    File \"C:\\Users\\CarlosViniMSouza\\AppData\\Local\\Programs\\Python\\Python310\\lib\\site-packages\\setuptools\\build_meta.py\", line 230, in build_wheel\n",
      "      return self._build_with_temp_dir(['bdist_wheel'], '.whl',\n",
      "    File \"C:\\Users\\CarlosViniMSouza\\AppData\\Local\\Programs\\Python\\Python310\\lib\\site-packages\\setuptools\\build_meta.py\", line 215, in _build_with_temp_dir\n",
      "      self.run_setup()\n",
      "    File \"C:\\Users\\CarlosViniMSouza\\AppData\\Local\\Programs\\Python\\Python310\\lib\\site-packages\\setuptools\\build_meta.py\", line 158, in run_setup\n",
      "      exec(compile(code, __file__, 'exec'), locals())\n",
      "    File \"setup.py\", line 265, in <module>\n",
      "      setup(ext_modules=EXTERNAL_MODULES, **setup_args)\n",
      "    File \"C:\\Users\\CarlosViniMSouza\\AppData\\Local\\Programs\\Python\\Python310\\lib\\site-packages\\setuptools\\__init__.py\", line 153, in setup\n",
      "      return distutils.core.setup(**attrs)\n",
      "    File \"C:\\Users\\CarlosViniMSouza\\AppData\\Local\\Programs\\Python\\Python310\\lib\\site-packages\\setuptools\\_distutils\\core.py\", line 148, in setup\n",
      "      return run_commands(dist)\n",
      "    File \"C:\\Users\\CarlosViniMSouza\\AppData\\Local\\Programs\\Python\\Python310\\lib\\site-packages\\setuptools\\_distutils\\core.py\", line 163, in run_commands\n",
      "      dist.run_commands()\n",
      "    File \"C:\\Users\\CarlosViniMSouza\\AppData\\Local\\Programs\\Python\\Python310\\lib\\site-packages\\setuptools\\_distutils\\dist.py\", line 967, in run_commands\n",
      "      self.run_command(cmd)\n",
      "    File \"C:\\Users\\CarlosViniMSouza\\AppData\\Local\\Programs\\Python\\Python310\\lib\\site-packages\\setuptools\\_distutils\\dist.py\", line 986, in run_command\n",
      "      cmd_obj.run()\n",
      "    File \"C:\\Users\\CarlosViniMSouza\\AppData\\Local\\Temp\\pip-build-env-14uxba5y\\overlay\\Lib\\site-packages\\wheel\\bdist_wheel.py\", line 299, in run\n",
      "      self.run_command('build')\n",
      "    File \"C:\\Users\\CarlosViniMSouza\\AppData\\Local\\Programs\\Python\\Python310\\lib\\site-packages\\setuptools\\_distutils\\cmd.py\", line 313, in run_command\n",
      "      self.distribution.run_command(command)\n",
      "    File \"C:\\Users\\CarlosViniMSouza\\AppData\\Local\\Programs\\Python\\Python310\\lib\\site-packages\\setuptools\\_distutils\\dist.py\", line 986, in run_command\n",
      "      cmd_obj.run()\n",
      "    File \"C:\\Users\\CarlosViniMSouza\\AppData\\Local\\Programs\\Python\\Python310\\lib\\site-packages\\setuptools\\_distutils\\command\\build.py\", line 135, in run\n",
      "      self.run_command(cmd_name)\n",
      "    File \"C:\\Users\\CarlosViniMSouza\\AppData\\Local\\Programs\\Python\\Python310\\lib\\site-packages\\setuptools\\_distutils\\cmd.py\", line 313, in run_command\n",
      "      self.distribution.run_command(command)\n",
      "    File \"C:\\Users\\CarlosViniMSouza\\AppData\\Local\\Programs\\Python\\Python310\\lib\\site-packages\\setuptools\\_distutils\\dist.py\", line 986, in run_command\n",
      "      cmd_obj.run()\n",
      "    File \"C:\\Users\\CarlosViniMSouza\\AppData\\Local\\Programs\\Python\\Python310\\lib\\site-packages\\setuptools\\command\\build_ext.py\", line 79, in run\n",
      "      _build_ext.run(self)\n",
      "    File \"C:\\Users\\CarlosViniMSouza\\AppData\\Local\\Programs\\Python\\Python310\\lib\\site-packages\\setuptools\\_distutils\\command\\build_ext.py\", line 341, in run\n",
      "      self.build_extensions()\n",
      "    File \"C:\\Users\\CarlosViniMSouza\\AppData\\Local\\Programs\\Python\\Python310\\lib\\site-packages\\setuptools\\_distutils\\command\\build_ext.py\", line 450, in build_extensions\n",
      "      self._build_extensions_serial()\n",
      "    File \"C:\\Users\\CarlosViniMSouza\\AppData\\Local\\Programs\\Python\\Python310\\lib\\site-packages\\setuptools\\_distutils\\command\\build_ext.py\", line 475, in _build_extensions_serial\n",
      "      self.build_extension(ext)\n",
      "    File \"setup.py\", line 159, in build_extension\n",
      "      subprocess.check_call(\n",
      "    File \"C:\\Users\\CarlosViniMSouza\\AppData\\Local\\Programs\\Python\\Python310\\lib\\subprocess.py\", line 369, in check_call\n",
      "      raise CalledProcessError(retcode, cmd)\n",
      "  subprocess.CalledProcessError: Command '['cmake', 'C:\\\\Users\\\\CarlosViniMSouza\\\\AppData\\\\Local\\\\Temp\\\\pip-install-yzdb69oc\\\\phik_f40de91ffce24b3ea751d553150b5e7c', '-Dpybind11_DIR=C:\\\\Users\\\\CarlosViniMSouza\\\\AppData\\\\Local\\\\Temp\\\\pip-build-env-14uxba5y\\\\overlay\\\\Lib\\\\site-packages\\\\pybind11\\\\share\\\\cmake\\\\pybind11', '-DCMAKE_LIBRARY_OUTPUT_DIRECTORY=C:\\\\Users\\\\CarlosViniMSouza\\\\AppData\\\\Local\\\\Temp\\\\pip-install-yzdb69oc\\\\phik_f40de91ffce24b3ea751d553150b5e7c\\\\build\\\\lib.win-amd64-3.10\\\\phik\\\\lib', '-DPYTHON_EXECUTABLE=E:\\\\Programacao\\\\PythonDjango\\\\DataAnalysis_Python\\\\venv\\\\Scripts\\\\python.exe', '-DPHIK_VERSION_INFO=0.12.0', '-DCMAKE_BUILD_TYPE=Release', '-A', 'x64', '-DCMAKE_LIBRARY_OUTPUT_DIRECTORY_RELEASE=C:\\\\Users\\\\CarlosViniMSouza\\\\AppData\\\\Local\\\\Temp\\\\pip-install-yzdb69oc\\\\phik_f40de91ffce24b3ea751d553150b5e7c\\\\build\\\\lib.win-amd64-3.10\\\\phik\\\\lib']' returned non-zero exit status 1.\n",
      "  ----------------------------------------\n",
      "  ERROR: Failed building wheel for phik\n",
      "ERROR: Could not build wheels for phik, which is required to install pyproject.toml-based projects\n"
     ]
    }
   ],
   "source": [
    "#restart the kernel after installation\n",
    "!pip install pandas-profiling --upgrade --quiet"
   ]
  },
  {
   "cell_type": "code",
   "execution_count": 2,
   "metadata": {},
   "outputs": [
    {
     "data": {
      "text/plain": "('italy-covid-daywise.csv', <http.client.HTTPMessage at 0x2214a076830>)"
     },
     "execution_count": 2,
     "metadata": {},
     "output_type": "execute_result"
    }
   ],
   "source": [
    "from urllib.request import urlretrieve\n",
    "\n",
    "italy_covid_url = 'https://gist.githubusercontent.com/aakashns/f6a004fa20c84fec53262f9a8bfee775/raw/f309558b1cf5103424cef58e2ecb8704dcd4d74c/italy-covid-daywise.csv'\n",
    "\n",
    "urlretrieve(italy_covid_url, 'italy-covid-daywise.csv')"
   ]
  },
  {
   "cell_type": "code",
   "execution_count": 3,
   "metadata": {},
   "outputs": [
    {
     "data": {
      "text/plain": "pandas.core.frame.DataFrame"
     },
     "execution_count": 3,
     "metadata": {},
     "output_type": "execute_result"
    }
   ],
   "source": [
    "import pandas as pd\n",
    "\n",
    "covid_df = pd.read_csv('italy-covid-daywise.csv')\n",
    "\n",
    "type(covid_df)"
   ]
  },
  {
   "cell_type": "code",
   "execution_count": 4,
   "metadata": {},
   "outputs": [
    {
     "data": {
      "text/plain": "           date  new_cases  new_deaths  new_tests\n0    2019-12-31        0.0         0.0        NaN\n1    2020-01-01        0.0         0.0        NaN\n2    2020-01-02        0.0         0.0        NaN\n3    2020-01-03        0.0         0.0        NaN\n4    2020-01-04        0.0         0.0        NaN\n..          ...        ...         ...        ...\n243  2020-08-30     1444.0         1.0    53541.0\n244  2020-08-31     1365.0         4.0    42583.0\n245  2020-09-01      996.0         6.0    54395.0\n246  2020-09-02      975.0         8.0        NaN\n247  2020-09-03     1326.0         6.0        NaN\n\n[248 rows x 4 columns]",
      "text/html": "<div>\n<style scoped>\n    .dataframe tbody tr th:only-of-type {\n        vertical-align: middle;\n    }\n\n    .dataframe tbody tr th {\n        vertical-align: top;\n    }\n\n    .dataframe thead th {\n        text-align: right;\n    }\n</style>\n<table border=\"1\" class=\"dataframe\">\n  <thead>\n    <tr style=\"text-align: right;\">\n      <th></th>\n      <th>date</th>\n      <th>new_cases</th>\n      <th>new_deaths</th>\n      <th>new_tests</th>\n    </tr>\n  </thead>\n  <tbody>\n    <tr>\n      <th>0</th>\n      <td>2019-12-31</td>\n      <td>0.0</td>\n      <td>0.0</td>\n      <td>NaN</td>\n    </tr>\n    <tr>\n      <th>1</th>\n      <td>2020-01-01</td>\n      <td>0.0</td>\n      <td>0.0</td>\n      <td>NaN</td>\n    </tr>\n    <tr>\n      <th>2</th>\n      <td>2020-01-02</td>\n      <td>0.0</td>\n      <td>0.0</td>\n      <td>NaN</td>\n    </tr>\n    <tr>\n      <th>3</th>\n      <td>2020-01-03</td>\n      <td>0.0</td>\n      <td>0.0</td>\n      <td>NaN</td>\n    </tr>\n    <tr>\n      <th>4</th>\n      <td>2020-01-04</td>\n      <td>0.0</td>\n      <td>0.0</td>\n      <td>NaN</td>\n    </tr>\n    <tr>\n      <th>...</th>\n      <td>...</td>\n      <td>...</td>\n      <td>...</td>\n      <td>...</td>\n    </tr>\n    <tr>\n      <th>243</th>\n      <td>2020-08-30</td>\n      <td>1444.0</td>\n      <td>1.0</td>\n      <td>53541.0</td>\n    </tr>\n    <tr>\n      <th>244</th>\n      <td>2020-08-31</td>\n      <td>1365.0</td>\n      <td>4.0</td>\n      <td>42583.0</td>\n    </tr>\n    <tr>\n      <th>245</th>\n      <td>2020-09-01</td>\n      <td>996.0</td>\n      <td>6.0</td>\n      <td>54395.0</td>\n    </tr>\n    <tr>\n      <th>246</th>\n      <td>2020-09-02</td>\n      <td>975.0</td>\n      <td>8.0</td>\n      <td>NaN</td>\n    </tr>\n    <tr>\n      <th>247</th>\n      <td>2020-09-03</td>\n      <td>1326.0</td>\n      <td>6.0</td>\n      <td>NaN</td>\n    </tr>\n  </tbody>\n</table>\n<p>248 rows × 4 columns</p>\n</div>"
     },
     "execution_count": 4,
     "metadata": {},
     "output_type": "execute_result"
    }
   ],
   "source": [
    "import pandas as pd\n",
    "\n",
    "covid_df = pd.read_csv('italy-covid-daywise.csv')\n",
    "\n",
    "type(covid_df)\n",
    "\n",
    "covid_df"
   ]
  },
  {
   "cell_type": "code",
   "execution_count": 5,
   "metadata": {},
   "outputs": [
    {
     "data": {
      "text/plain": "           date  new_cases  new_deaths  new_tests\n0    2019-12-31        0.0         0.0        NaN\n1    2020-01-01        0.0         0.0        NaN\n2    2020-01-02        0.0         0.0        NaN\n3    2020-01-03        0.0         0.0        NaN\n4    2020-01-04        0.0         0.0        NaN\n..          ...        ...         ...        ...\n243  2020-08-30     1444.0         1.0    53541.0\n244  2020-08-31     1365.0         4.0    42583.0\n245  2020-09-01      996.0         6.0    54395.0\n246  2020-09-02      975.0         8.0        NaN\n247  2020-09-03     1326.0         6.0        NaN\n\n[248 rows x 4 columns]",
      "text/html": "<div>\n<style scoped>\n    .dataframe tbody tr th:only-of-type {\n        vertical-align: middle;\n    }\n\n    .dataframe tbody tr th {\n        vertical-align: top;\n    }\n\n    .dataframe thead th {\n        text-align: right;\n    }\n</style>\n<table border=\"1\" class=\"dataframe\">\n  <thead>\n    <tr style=\"text-align: right;\">\n      <th></th>\n      <th>date</th>\n      <th>new_cases</th>\n      <th>new_deaths</th>\n      <th>new_tests</th>\n    </tr>\n  </thead>\n  <tbody>\n    <tr>\n      <th>0</th>\n      <td>2019-12-31</td>\n      <td>0.0</td>\n      <td>0.0</td>\n      <td>NaN</td>\n    </tr>\n    <tr>\n      <th>1</th>\n      <td>2020-01-01</td>\n      <td>0.0</td>\n      <td>0.0</td>\n      <td>NaN</td>\n    </tr>\n    <tr>\n      <th>2</th>\n      <td>2020-01-02</td>\n      <td>0.0</td>\n      <td>0.0</td>\n      <td>NaN</td>\n    </tr>\n    <tr>\n      <th>3</th>\n      <td>2020-01-03</td>\n      <td>0.0</td>\n      <td>0.0</td>\n      <td>NaN</td>\n    </tr>\n    <tr>\n      <th>4</th>\n      <td>2020-01-04</td>\n      <td>0.0</td>\n      <td>0.0</td>\n      <td>NaN</td>\n    </tr>\n    <tr>\n      <th>...</th>\n      <td>...</td>\n      <td>...</td>\n      <td>...</td>\n      <td>...</td>\n    </tr>\n    <tr>\n      <th>243</th>\n      <td>2020-08-30</td>\n      <td>1444.0</td>\n      <td>1.0</td>\n      <td>53541.0</td>\n    </tr>\n    <tr>\n      <th>244</th>\n      <td>2020-08-31</td>\n      <td>1365.0</td>\n      <td>4.0</td>\n      <td>42583.0</td>\n    </tr>\n    <tr>\n      <th>245</th>\n      <td>2020-09-01</td>\n      <td>996.0</td>\n      <td>6.0</td>\n      <td>54395.0</td>\n    </tr>\n    <tr>\n      <th>246</th>\n      <td>2020-09-02</td>\n      <td>975.0</td>\n      <td>8.0</td>\n      <td>NaN</td>\n    </tr>\n    <tr>\n      <th>247</th>\n      <td>2020-09-03</td>\n      <td>1326.0</td>\n      <td>6.0</td>\n      <td>NaN</td>\n    </tr>\n  </tbody>\n</table>\n<p>248 rows × 4 columns</p>\n</div>"
     },
     "execution_count": 5,
     "metadata": {},
     "output_type": "execute_result"
    }
   ],
   "source": [
    "covid_df"
   ]
  },
  {
   "cell_type": "code",
   "execution_count": 6,
   "metadata": {},
   "outputs": [
    {
     "name": "stdout",
     "output_type": "stream",
     "text": [
      "<class 'pandas.core.frame.DataFrame'>\n",
      "RangeIndex: 248 entries, 0 to 247\n",
      "Data columns (total 4 columns):\n",
      " #   Column      Non-Null Count  Dtype  \n",
      "---  ------      --------------  -----  \n",
      " 0   date        248 non-null    object \n",
      " 1   new_cases   248 non-null    float64\n",
      " 2   new_deaths  248 non-null    float64\n",
      " 3   new_tests   135 non-null    float64\n",
      "dtypes: float64(3), object(1)\n",
      "memory usage: 7.9+ KB\n"
     ]
    }
   ],
   "source": [
    "covid_df.info()"
   ]
  },
  {
   "cell_type": "code",
   "execution_count": 7,
   "metadata": {},
   "outputs": [
    {
     "data": {
      "text/plain": "         new_cases  new_deaths     new_tests\ncount   248.000000  248.000000    135.000000\nmean   1094.818548  143.133065  31699.674074\nstd    1554.508002  227.105538  11622.209757\nmin    -148.000000  -31.000000   7841.000000\n25%     123.000000    3.000000  25259.000000\n50%     342.000000   17.000000  29545.000000\n75%    1371.750000  175.250000  37711.000000\nmax    6557.000000  971.000000  95273.000000",
      "text/html": "<div>\n<style scoped>\n    .dataframe tbody tr th:only-of-type {\n        vertical-align: middle;\n    }\n\n    .dataframe tbody tr th {\n        vertical-align: top;\n    }\n\n    .dataframe thead th {\n        text-align: right;\n    }\n</style>\n<table border=\"1\" class=\"dataframe\">\n  <thead>\n    <tr style=\"text-align: right;\">\n      <th></th>\n      <th>new_cases</th>\n      <th>new_deaths</th>\n      <th>new_tests</th>\n    </tr>\n  </thead>\n  <tbody>\n    <tr>\n      <th>count</th>\n      <td>248.000000</td>\n      <td>248.000000</td>\n      <td>135.000000</td>\n    </tr>\n    <tr>\n      <th>mean</th>\n      <td>1094.818548</td>\n      <td>143.133065</td>\n      <td>31699.674074</td>\n    </tr>\n    <tr>\n      <th>std</th>\n      <td>1554.508002</td>\n      <td>227.105538</td>\n      <td>11622.209757</td>\n    </tr>\n    <tr>\n      <th>min</th>\n      <td>-148.000000</td>\n      <td>-31.000000</td>\n      <td>7841.000000</td>\n    </tr>\n    <tr>\n      <th>25%</th>\n      <td>123.000000</td>\n      <td>3.000000</td>\n      <td>25259.000000</td>\n    </tr>\n    <tr>\n      <th>50%</th>\n      <td>342.000000</td>\n      <td>17.000000</td>\n      <td>29545.000000</td>\n    </tr>\n    <tr>\n      <th>75%</th>\n      <td>1371.750000</td>\n      <td>175.250000</td>\n      <td>37711.000000</td>\n    </tr>\n    <tr>\n      <th>max</th>\n      <td>6557.000000</td>\n      <td>971.000000</td>\n      <td>95273.000000</td>\n    </tr>\n  </tbody>\n</table>\n</div>"
     },
     "execution_count": 7,
     "metadata": {},
     "output_type": "execute_result"
    }
   ],
   "source": [
    "covid_df.describe()"
   ]
  },
  {
   "cell_type": "code",
   "execution_count": 8,
   "metadata": {},
   "outputs": [
    {
     "data": {
      "text/plain": "(248, 4)"
     },
     "execution_count": 8,
     "metadata": {},
     "output_type": "execute_result"
    }
   ],
   "source": [
    "covid_df.shape"
   ]
  },
  {
   "cell_type": "code",
   "execution_count": 9,
   "metadata": {},
   "outputs": [],
   "source": [
    "# Pandas format is simliar to this\n",
    "\n",
    "covid_data_dict = {\n",
    "    'date':       ['2020-08-30', '2020-08-31', '2020-09-01', '2020-09-02', '2020-09-03'],\n",
    "    'new_cases':  [1444, 1365, 996, 975, 1326],\n",
    "    'new_deaths': [1, 4, 6, 8, 6],\n",
    "    'new_tests': [53541, 42583, 54395, None, None]\n",
    "}"
   ]
  },
  {
   "cell_type": "code",
   "execution_count": 10,
   "metadata": {},
   "outputs": [
    {
     "data": {
      "text/plain": "[1444, 1365, 996, 975, 1326]"
     },
     "execution_count": 10,
     "metadata": {},
     "output_type": "execute_result"
    }
   ],
   "source": [
    "covid_data_dict['new_cases']"
   ]
  },
  {
   "cell_type": "code",
   "execution_count": 11,
   "metadata": {},
   "outputs": [
    {
     "data": {
      "text/plain": "0         0.0\n1         0.0\n2         0.0\n3         0.0\n4         0.0\n        ...  \n243    1444.0\n244    1365.0\n245     996.0\n246     975.0\n247    1326.0\nName: new_cases, Length: 248, dtype: float64"
     },
     "execution_count": 11,
     "metadata": {},
     "output_type": "execute_result"
    }
   ],
   "source": [
    "covid_df['new_cases']"
   ]
  },
  {
   "cell_type": "code",
   "execution_count": 12,
   "metadata": {},
   "outputs": [
    {
     "data": {
      "text/plain": "975.0"
     },
     "execution_count": 12,
     "metadata": {},
     "output_type": "execute_result"
    }
   ],
   "source": [
    "covid_df['new_cases'][246]"
   ]
  },
  {
   "cell_type": "code",
   "execution_count": 13,
   "metadata": {},
   "outputs": [
    {
     "data": {
      "text/plain": "57640.0"
     },
     "execution_count": 13,
     "metadata": {},
     "output_type": "execute_result"
    }
   ],
   "source": [
    "covid_df['new_tests'][240]"
   ]
  },
  {
   "cell_type": "code",
   "execution_count": 14,
   "metadata": {},
   "outputs": [
    {
     "data": {
      "text/plain": "           date  new_cases  new_deaths  new_tests\n108  2020-04-17     3786.0       525.0        NaN\n109  2020-04-18     3493.0       575.0        NaN\n110  2020-04-19     3491.0       480.0        NaN\n111  2020-04-20     3047.0       433.0     7841.0\n112  2020-04-21     2256.0       454.0    28095.0\n113  2020-04-22     2729.0       534.0    44248.0",
      "text/html": "<div>\n<style scoped>\n    .dataframe tbody tr th:only-of-type {\n        vertical-align: middle;\n    }\n\n    .dataframe tbody tr th {\n        vertical-align: top;\n    }\n\n    .dataframe thead th {\n        text-align: right;\n    }\n</style>\n<table border=\"1\" class=\"dataframe\">\n  <thead>\n    <tr style=\"text-align: right;\">\n      <th></th>\n      <th>date</th>\n      <th>new_cases</th>\n      <th>new_deaths</th>\n      <th>new_tests</th>\n    </tr>\n  </thead>\n  <tbody>\n    <tr>\n      <th>108</th>\n      <td>2020-04-17</td>\n      <td>3786.0</td>\n      <td>525.0</td>\n      <td>NaN</td>\n    </tr>\n    <tr>\n      <th>109</th>\n      <td>2020-04-18</td>\n      <td>3493.0</td>\n      <td>575.0</td>\n      <td>NaN</td>\n    </tr>\n    <tr>\n      <th>110</th>\n      <td>2020-04-19</td>\n      <td>3491.0</td>\n      <td>480.0</td>\n      <td>NaN</td>\n    </tr>\n    <tr>\n      <th>111</th>\n      <td>2020-04-20</td>\n      <td>3047.0</td>\n      <td>433.0</td>\n      <td>7841.0</td>\n    </tr>\n    <tr>\n      <th>112</th>\n      <td>2020-04-21</td>\n      <td>2256.0</td>\n      <td>454.0</td>\n      <td>28095.0</td>\n    </tr>\n    <tr>\n      <th>113</th>\n      <td>2020-04-22</td>\n      <td>2729.0</td>\n      <td>534.0</td>\n      <td>44248.0</td>\n    </tr>\n  </tbody>\n</table>\n</div>"
     },
     "execution_count": 14,
     "metadata": {},
     "output_type": "execute_result"
    }
   ],
   "source": [
    "covid_df.loc[108:113]"
   ]
  },
  {
   "cell_type": "code",
   "execution_count": 15,
   "metadata": {},
   "outputs": [
    {
     "data": {
      "text/plain": "           date  new_cases  new_deaths  new_tests\n107  2020-04-16     2667.0       578.0        NaN\n12   2020-01-12        0.0         0.0        NaN\n135  2020-05-14      888.0       195.0    41131.0\n14   2020-01-14        0.0         0.0        NaN\n234  2020-08-21      840.0         6.0    44943.0\n214  2020-08-01      379.0         9.0    31905.0\n190  2020-07-08      137.0        30.0    28679.0\n238  2020-08-25      953.0         4.0    45798.0\n13   2020-01-13        0.0         0.0        NaN\n153  2020-06-01      355.0        75.0    18053.0",
      "text/html": "<div>\n<style scoped>\n    .dataframe tbody tr th:only-of-type {\n        vertical-align: middle;\n    }\n\n    .dataframe tbody tr th {\n        vertical-align: top;\n    }\n\n    .dataframe thead th {\n        text-align: right;\n    }\n</style>\n<table border=\"1\" class=\"dataframe\">\n  <thead>\n    <tr style=\"text-align: right;\">\n      <th></th>\n      <th>date</th>\n      <th>new_cases</th>\n      <th>new_deaths</th>\n      <th>new_tests</th>\n    </tr>\n  </thead>\n  <tbody>\n    <tr>\n      <th>107</th>\n      <td>2020-04-16</td>\n      <td>2667.0</td>\n      <td>578.0</td>\n      <td>NaN</td>\n    </tr>\n    <tr>\n      <th>12</th>\n      <td>2020-01-12</td>\n      <td>0.0</td>\n      <td>0.0</td>\n      <td>NaN</td>\n    </tr>\n    <tr>\n      <th>135</th>\n      <td>2020-05-14</td>\n      <td>888.0</td>\n      <td>195.0</td>\n      <td>41131.0</td>\n    </tr>\n    <tr>\n      <th>14</th>\n      <td>2020-01-14</td>\n      <td>0.0</td>\n      <td>0.0</td>\n      <td>NaN</td>\n    </tr>\n    <tr>\n      <th>234</th>\n      <td>2020-08-21</td>\n      <td>840.0</td>\n      <td>6.0</td>\n      <td>44943.0</td>\n    </tr>\n    <tr>\n      <th>214</th>\n      <td>2020-08-01</td>\n      <td>379.0</td>\n      <td>9.0</td>\n      <td>31905.0</td>\n    </tr>\n    <tr>\n      <th>190</th>\n      <td>2020-07-08</td>\n      <td>137.0</td>\n      <td>30.0</td>\n      <td>28679.0</td>\n    </tr>\n    <tr>\n      <th>238</th>\n      <td>2020-08-25</td>\n      <td>953.0</td>\n      <td>4.0</td>\n      <td>45798.0</td>\n    </tr>\n    <tr>\n      <th>13</th>\n      <td>2020-01-13</td>\n      <td>0.0</td>\n      <td>0.0</td>\n      <td>NaN</td>\n    </tr>\n    <tr>\n      <th>153</th>\n      <td>2020-06-01</td>\n      <td>355.0</td>\n      <td>75.0</td>\n      <td>18053.0</td>\n    </tr>\n  </tbody>\n</table>\n</div>"
     },
     "execution_count": 15,
     "metadata": {},
     "output_type": "execute_result"
    }
   ],
   "source": [
    "covid_df.sample(10)"
   ]
  },
  {
   "cell_type": "code",
   "execution_count": 16,
   "metadata": {},
   "outputs": [
    {
     "name": "stdout",
     "output_type": "stream",
     "text": [
      "The number of reported cases is 271515 and the number of reported deaths is 35497.\n"
     ]
    }
   ],
   "source": [
    "# Analyzing data from data frames\n",
    "\n",
    "total_cases = covid_df.new_cases.sum()\n",
    "total_deaths = covid_df.new_deaths.sum()\n",
    "\n",
    "print('The number of reported cases is {} and the number of reported deaths is {}.'.format(int(total_cases), int(total_deaths)))"
   ]
  },
  {
   "cell_type": "code",
   "execution_count": 17,
   "metadata": {},
   "outputs": [
    {
     "name": "stdout",
     "output_type": "stream",
     "text": [
      "The overall reported death rate in Italy is 13.07 %.\n"
     ]
    }
   ],
   "source": [
    "# Q: What is the overall death rate (ratio of reported deaths to reported cases)?\n",
    "\n",
    "death_rate = covid_df.new_deaths.sum() / covid_df.new_cases.sum()\n",
    "print(\"The overall reported death rate in Italy is {:.2f} %.\".format(death_rate*100))"
   ]
  },
  {
   "cell_type": "code",
   "execution_count": 18,
   "metadata": {},
   "outputs": [
    {
     "data": {
      "text/plain": "5214766.0"
     },
     "execution_count": 18,
     "metadata": {},
     "output_type": "execute_result"
    }
   ],
   "source": [
    "# Q: What is the overall number of tests conducted? A total of 935310 tests were conducted before daily test numbers were reported.\n",
    "\n",
    "initial_tests = 935310\n",
    "total_tests = initial_tests + covid_df.new_tests.sum()\n",
    "total_tests"
   ]
  },
  {
   "cell_type": "code",
   "execution_count": 19,
   "metadata": {},
   "outputs": [
    {
     "name": "stdout",
     "output_type": "stream",
     "text": [
      "5.21% of tests in Italy led to a positive diagnosis.\n"
     ]
    }
   ],
   "source": [
    "# Q: What fraction of tests returned a positive result?\n",
    "\n",
    "positive_rate = total_cases / total_tests\n",
    "print('{:.2f}% of tests in Italy led to a positive diagnosis.'.format(positive_rate*100))"
   ]
  },
  {
   "cell_type": "code",
   "execution_count": 20,
   "outputs": [
    {
     "data": {
      "text/plain": "0      False\n1      False\n2      False\n3      False\n4      False\n       ...  \n243     True\n244     True\n245    False\n246    False\n247     True\nName: new_cases, Length: 248, dtype: bool"
     },
     "execution_count": 20,
     "metadata": {},
     "output_type": "execute_result"
    }
   ],
   "source": [
    "high_new_cases = covid_df.new_cases > 1000\n",
    "\n",
    "high_new_cases"
   ],
   "metadata": {
    "collapsed": false,
    "pycharm": {
     "name": "#%%\n"
    }
   }
  },
  {
   "cell_type": "code",
   "execution_count": 21,
   "outputs": [
    {
     "data": {
      "text/plain": "           date  new_cases  new_deaths  new_tests\n68   2020-03-08     1247.0        36.0        NaN\n69   2020-03-09     1492.0       133.0        NaN\n70   2020-03-10     1797.0        98.0        NaN\n72   2020-03-12     2313.0       196.0        NaN\n73   2020-03-13     2651.0       189.0        NaN\n..          ...        ...         ...        ...\n241  2020-08-28     1409.0         5.0    65135.0\n242  2020-08-29     1460.0         9.0    64294.0\n243  2020-08-30     1444.0         1.0    53541.0\n244  2020-08-31     1365.0         4.0    42583.0\n247  2020-09-03     1326.0         6.0        NaN\n\n[72 rows x 4 columns]",
      "text/html": "<div>\n<style scoped>\n    .dataframe tbody tr th:only-of-type {\n        vertical-align: middle;\n    }\n\n    .dataframe tbody tr th {\n        vertical-align: top;\n    }\n\n    .dataframe thead th {\n        text-align: right;\n    }\n</style>\n<table border=\"1\" class=\"dataframe\">\n  <thead>\n    <tr style=\"text-align: right;\">\n      <th></th>\n      <th>date</th>\n      <th>new_cases</th>\n      <th>new_deaths</th>\n      <th>new_tests</th>\n    </tr>\n  </thead>\n  <tbody>\n    <tr>\n      <th>68</th>\n      <td>2020-03-08</td>\n      <td>1247.0</td>\n      <td>36.0</td>\n      <td>NaN</td>\n    </tr>\n    <tr>\n      <th>69</th>\n      <td>2020-03-09</td>\n      <td>1492.0</td>\n      <td>133.0</td>\n      <td>NaN</td>\n    </tr>\n    <tr>\n      <th>70</th>\n      <td>2020-03-10</td>\n      <td>1797.0</td>\n      <td>98.0</td>\n      <td>NaN</td>\n    </tr>\n    <tr>\n      <th>72</th>\n      <td>2020-03-12</td>\n      <td>2313.0</td>\n      <td>196.0</td>\n      <td>NaN</td>\n    </tr>\n    <tr>\n      <th>73</th>\n      <td>2020-03-13</td>\n      <td>2651.0</td>\n      <td>189.0</td>\n      <td>NaN</td>\n    </tr>\n    <tr>\n      <th>...</th>\n      <td>...</td>\n      <td>...</td>\n      <td>...</td>\n      <td>...</td>\n    </tr>\n    <tr>\n      <th>241</th>\n      <td>2020-08-28</td>\n      <td>1409.0</td>\n      <td>5.0</td>\n      <td>65135.0</td>\n    </tr>\n    <tr>\n      <th>242</th>\n      <td>2020-08-29</td>\n      <td>1460.0</td>\n      <td>9.0</td>\n      <td>64294.0</td>\n    </tr>\n    <tr>\n      <th>243</th>\n      <td>2020-08-30</td>\n      <td>1444.0</td>\n      <td>1.0</td>\n      <td>53541.0</td>\n    </tr>\n    <tr>\n      <th>244</th>\n      <td>2020-08-31</td>\n      <td>1365.0</td>\n      <td>4.0</td>\n      <td>42583.0</td>\n    </tr>\n    <tr>\n      <th>247</th>\n      <td>2020-09-03</td>\n      <td>1326.0</td>\n      <td>6.0</td>\n      <td>NaN</td>\n    </tr>\n  </tbody>\n</table>\n<p>72 rows × 4 columns</p>\n</div>"
     },
     "execution_count": 21,
     "metadata": {},
     "output_type": "execute_result"
    }
   ],
   "source": [
    "covid_df[high_new_cases]"
   ],
   "metadata": {
    "collapsed": false,
    "pycharm": {
     "name": "#%%\n"
    }
   }
  },
  {
   "cell_type": "code",
   "execution_count": 22,
   "outputs": [
    {
     "data": {
      "text/plain": "           date  new_cases  new_deaths  new_tests\n68   2020-03-08     1247.0        36.0        NaN\n69   2020-03-09     1492.0       133.0        NaN\n70   2020-03-10     1797.0        98.0        NaN\n72   2020-03-12     2313.0       196.0        NaN\n73   2020-03-13     2651.0       189.0        NaN\n..          ...        ...         ...        ...\n241  2020-08-28     1409.0         5.0    65135.0\n242  2020-08-29     1460.0         9.0    64294.0\n243  2020-08-30     1444.0         1.0    53541.0\n244  2020-08-31     1365.0         4.0    42583.0\n247  2020-09-03     1326.0         6.0        NaN\n\n[72 rows x 4 columns]",
      "text/html": "<div>\n<style scoped>\n    .dataframe tbody tr th:only-of-type {\n        vertical-align: middle;\n    }\n\n    .dataframe tbody tr th {\n        vertical-align: top;\n    }\n\n    .dataframe thead th {\n        text-align: right;\n    }\n</style>\n<table border=\"1\" class=\"dataframe\">\n  <thead>\n    <tr style=\"text-align: right;\">\n      <th></th>\n      <th>date</th>\n      <th>new_cases</th>\n      <th>new_deaths</th>\n      <th>new_tests</th>\n    </tr>\n  </thead>\n  <tbody>\n    <tr>\n      <th>68</th>\n      <td>2020-03-08</td>\n      <td>1247.0</td>\n      <td>36.0</td>\n      <td>NaN</td>\n    </tr>\n    <tr>\n      <th>69</th>\n      <td>2020-03-09</td>\n      <td>1492.0</td>\n      <td>133.0</td>\n      <td>NaN</td>\n    </tr>\n    <tr>\n      <th>70</th>\n      <td>2020-03-10</td>\n      <td>1797.0</td>\n      <td>98.0</td>\n      <td>NaN</td>\n    </tr>\n    <tr>\n      <th>72</th>\n      <td>2020-03-12</td>\n      <td>2313.0</td>\n      <td>196.0</td>\n      <td>NaN</td>\n    </tr>\n    <tr>\n      <th>73</th>\n      <td>2020-03-13</td>\n      <td>2651.0</td>\n      <td>189.0</td>\n      <td>NaN</td>\n    </tr>\n    <tr>\n      <th>...</th>\n      <td>...</td>\n      <td>...</td>\n      <td>...</td>\n      <td>...</td>\n    </tr>\n    <tr>\n      <th>241</th>\n      <td>2020-08-28</td>\n      <td>1409.0</td>\n      <td>5.0</td>\n      <td>65135.0</td>\n    </tr>\n    <tr>\n      <th>242</th>\n      <td>2020-08-29</td>\n      <td>1460.0</td>\n      <td>9.0</td>\n      <td>64294.0</td>\n    </tr>\n    <tr>\n      <th>243</th>\n      <td>2020-08-30</td>\n      <td>1444.0</td>\n      <td>1.0</td>\n      <td>53541.0</td>\n    </tr>\n    <tr>\n      <th>244</th>\n      <td>2020-08-31</td>\n      <td>1365.0</td>\n      <td>4.0</td>\n      <td>42583.0</td>\n    </tr>\n    <tr>\n      <th>247</th>\n      <td>2020-09-03</td>\n      <td>1326.0</td>\n      <td>6.0</td>\n      <td>NaN</td>\n    </tr>\n  </tbody>\n</table>\n<p>72 rows × 4 columns</p>\n</div>"
     },
     "execution_count": 22,
     "metadata": {},
     "output_type": "execute_result"
    }
   ],
   "source": [
    "# We can write this succinctly on a single line by passing the boolean expression as an index to the data frame.\n",
    "\n",
    "high_cases_df = covid_df[covid_df.new_cases > 1000]\n",
    "\n",
    "high_cases_df"
   ],
   "metadata": {
    "collapsed": false,
    "pycharm": {
     "name": "#%%\n"
    }
   }
  },
  {
   "cell_type": "code",
   "execution_count": 23,
   "outputs": [
    {
     "data": {
      "text/plain": "           date  new_cases  new_deaths  new_tests\n68   2020-03-08     1247.0        36.0        NaN\n69   2020-03-09     1492.0       133.0        NaN\n70   2020-03-10     1797.0        98.0        NaN\n72   2020-03-12     2313.0       196.0        NaN\n73   2020-03-13     2651.0       189.0        NaN\n74   2020-03-14     2547.0       252.0        NaN\n75   2020-03-15     3497.0       173.0        NaN\n76   2020-03-16     2823.0       370.0        NaN\n77   2020-03-17     4000.0       347.0        NaN\n78   2020-03-18     3526.0       347.0        NaN\n79   2020-03-19     4207.0       473.0        NaN\n80   2020-03-20     5322.0       429.0        NaN\n81   2020-03-21     5986.0       625.0        NaN\n82   2020-03-22     6557.0       795.0        NaN\n83   2020-03-23     5560.0       649.0        NaN\n84   2020-03-24     4789.0       601.0        NaN\n85   2020-03-25     5249.0       743.0        NaN\n86   2020-03-26     5210.0       685.0        NaN\n87   2020-03-27     6153.0       660.0        NaN\n88   2020-03-28     5959.0       971.0        NaN\n89   2020-03-29     5974.0       887.0        NaN\n90   2020-03-30     5217.0       758.0        NaN\n91   2020-03-31     4050.0       810.0        NaN\n92   2020-04-01     4053.0       839.0        NaN\n93   2020-04-02     4782.0       727.0        NaN\n94   2020-04-03     4668.0       760.0        NaN\n95   2020-04-04     4585.0       764.0        NaN\n96   2020-04-05     4805.0       681.0        NaN\n97   2020-04-06     4316.0       527.0        NaN\n98   2020-04-07     3599.0       636.0        NaN\n99   2020-04-08     3039.0       604.0        NaN\n100  2020-04-09     3836.0       540.0        NaN\n101  2020-04-10     4204.0       612.0        NaN\n102  2020-04-11     3951.0       570.0        NaN\n103  2020-04-12     4694.0       619.0        NaN\n104  2020-04-13     4092.0       431.0        NaN\n105  2020-04-14     3153.0       564.0        NaN\n106  2020-04-15     2972.0       604.0        NaN\n107  2020-04-16     2667.0       578.0        NaN\n108  2020-04-17     3786.0       525.0        NaN\n109  2020-04-18     3493.0       575.0        NaN\n110  2020-04-19     3491.0       480.0        NaN\n111  2020-04-20     3047.0       433.0     7841.0\n112  2020-04-21     2256.0       454.0    28095.0\n113  2020-04-22     2729.0       534.0    44248.0\n114  2020-04-23     3370.0       437.0    37083.0\n115  2020-04-24     2646.0       464.0    95273.0\n116  2020-04-25     3021.0       420.0    38676.0\n117  2020-04-26     2357.0       415.0    24113.0\n118  2020-04-27     2324.0       260.0    26678.0\n119  2020-04-28     1739.0       333.0    37554.0\n120  2020-04-29     2091.0       382.0    38589.0\n121  2020-04-30     2086.0       323.0    41441.0\n122  2020-05-01     1872.0       285.0    43732.0\n123  2020-05-02     1965.0       269.0    31231.0\n124  2020-05-03     1900.0       474.0    27047.0\n125  2020-05-04     1389.0       174.0    22999.0\n126  2020-05-05     1221.0       195.0    32211.0\n127  2020-05-06     1075.0       236.0    37771.0\n128  2020-05-07     1444.0       369.0    13665.0\n129  2020-05-08     1401.0       274.0    45428.0\n130  2020-05-09     1327.0       243.0    36091.0\n131  2020-05-10     1083.0       194.0    31384.0\n134  2020-05-13     1402.0       172.0    37049.0\n236  2020-08-23     1071.0         3.0    47463.0\n237  2020-08-24     1209.0         7.0    33358.0\n240  2020-08-27     1366.0        13.0    57640.0\n241  2020-08-28     1409.0         5.0    65135.0\n242  2020-08-29     1460.0         9.0    64294.0\n243  2020-08-30     1444.0         1.0    53541.0\n244  2020-08-31     1365.0         4.0    42583.0\n247  2020-09-03     1326.0         6.0        NaN",
      "text/html": "<div>\n<style scoped>\n    .dataframe tbody tr th:only-of-type {\n        vertical-align: middle;\n    }\n\n    .dataframe tbody tr th {\n        vertical-align: top;\n    }\n\n    .dataframe thead th {\n        text-align: right;\n    }\n</style>\n<table border=\"1\" class=\"dataframe\">\n  <thead>\n    <tr style=\"text-align: right;\">\n      <th></th>\n      <th>date</th>\n      <th>new_cases</th>\n      <th>new_deaths</th>\n      <th>new_tests</th>\n    </tr>\n  </thead>\n  <tbody>\n    <tr>\n      <th>68</th>\n      <td>2020-03-08</td>\n      <td>1247.0</td>\n      <td>36.0</td>\n      <td>NaN</td>\n    </tr>\n    <tr>\n      <th>69</th>\n      <td>2020-03-09</td>\n      <td>1492.0</td>\n      <td>133.0</td>\n      <td>NaN</td>\n    </tr>\n    <tr>\n      <th>70</th>\n      <td>2020-03-10</td>\n      <td>1797.0</td>\n      <td>98.0</td>\n      <td>NaN</td>\n    </tr>\n    <tr>\n      <th>72</th>\n      <td>2020-03-12</td>\n      <td>2313.0</td>\n      <td>196.0</td>\n      <td>NaN</td>\n    </tr>\n    <tr>\n      <th>73</th>\n      <td>2020-03-13</td>\n      <td>2651.0</td>\n      <td>189.0</td>\n      <td>NaN</td>\n    </tr>\n    <tr>\n      <th>74</th>\n      <td>2020-03-14</td>\n      <td>2547.0</td>\n      <td>252.0</td>\n      <td>NaN</td>\n    </tr>\n    <tr>\n      <th>75</th>\n      <td>2020-03-15</td>\n      <td>3497.0</td>\n      <td>173.0</td>\n      <td>NaN</td>\n    </tr>\n    <tr>\n      <th>76</th>\n      <td>2020-03-16</td>\n      <td>2823.0</td>\n      <td>370.0</td>\n      <td>NaN</td>\n    </tr>\n    <tr>\n      <th>77</th>\n      <td>2020-03-17</td>\n      <td>4000.0</td>\n      <td>347.0</td>\n      <td>NaN</td>\n    </tr>\n    <tr>\n      <th>78</th>\n      <td>2020-03-18</td>\n      <td>3526.0</td>\n      <td>347.0</td>\n      <td>NaN</td>\n    </tr>\n    <tr>\n      <th>79</th>\n      <td>2020-03-19</td>\n      <td>4207.0</td>\n      <td>473.0</td>\n      <td>NaN</td>\n    </tr>\n    <tr>\n      <th>80</th>\n      <td>2020-03-20</td>\n      <td>5322.0</td>\n      <td>429.0</td>\n      <td>NaN</td>\n    </tr>\n    <tr>\n      <th>81</th>\n      <td>2020-03-21</td>\n      <td>5986.0</td>\n      <td>625.0</td>\n      <td>NaN</td>\n    </tr>\n    <tr>\n      <th>82</th>\n      <td>2020-03-22</td>\n      <td>6557.0</td>\n      <td>795.0</td>\n      <td>NaN</td>\n    </tr>\n    <tr>\n      <th>83</th>\n      <td>2020-03-23</td>\n      <td>5560.0</td>\n      <td>649.0</td>\n      <td>NaN</td>\n    </tr>\n    <tr>\n      <th>84</th>\n      <td>2020-03-24</td>\n      <td>4789.0</td>\n      <td>601.0</td>\n      <td>NaN</td>\n    </tr>\n    <tr>\n      <th>85</th>\n      <td>2020-03-25</td>\n      <td>5249.0</td>\n      <td>743.0</td>\n      <td>NaN</td>\n    </tr>\n    <tr>\n      <th>86</th>\n      <td>2020-03-26</td>\n      <td>5210.0</td>\n      <td>685.0</td>\n      <td>NaN</td>\n    </tr>\n    <tr>\n      <th>87</th>\n      <td>2020-03-27</td>\n      <td>6153.0</td>\n      <td>660.0</td>\n      <td>NaN</td>\n    </tr>\n    <tr>\n      <th>88</th>\n      <td>2020-03-28</td>\n      <td>5959.0</td>\n      <td>971.0</td>\n      <td>NaN</td>\n    </tr>\n    <tr>\n      <th>89</th>\n      <td>2020-03-29</td>\n      <td>5974.0</td>\n      <td>887.0</td>\n      <td>NaN</td>\n    </tr>\n    <tr>\n      <th>90</th>\n      <td>2020-03-30</td>\n      <td>5217.0</td>\n      <td>758.0</td>\n      <td>NaN</td>\n    </tr>\n    <tr>\n      <th>91</th>\n      <td>2020-03-31</td>\n      <td>4050.0</td>\n      <td>810.0</td>\n      <td>NaN</td>\n    </tr>\n    <tr>\n      <th>92</th>\n      <td>2020-04-01</td>\n      <td>4053.0</td>\n      <td>839.0</td>\n      <td>NaN</td>\n    </tr>\n    <tr>\n      <th>93</th>\n      <td>2020-04-02</td>\n      <td>4782.0</td>\n      <td>727.0</td>\n      <td>NaN</td>\n    </tr>\n    <tr>\n      <th>94</th>\n      <td>2020-04-03</td>\n      <td>4668.0</td>\n      <td>760.0</td>\n      <td>NaN</td>\n    </tr>\n    <tr>\n      <th>95</th>\n      <td>2020-04-04</td>\n      <td>4585.0</td>\n      <td>764.0</td>\n      <td>NaN</td>\n    </tr>\n    <tr>\n      <th>96</th>\n      <td>2020-04-05</td>\n      <td>4805.0</td>\n      <td>681.0</td>\n      <td>NaN</td>\n    </tr>\n    <tr>\n      <th>97</th>\n      <td>2020-04-06</td>\n      <td>4316.0</td>\n      <td>527.0</td>\n      <td>NaN</td>\n    </tr>\n    <tr>\n      <th>98</th>\n      <td>2020-04-07</td>\n      <td>3599.0</td>\n      <td>636.0</td>\n      <td>NaN</td>\n    </tr>\n    <tr>\n      <th>99</th>\n      <td>2020-04-08</td>\n      <td>3039.0</td>\n      <td>604.0</td>\n      <td>NaN</td>\n    </tr>\n    <tr>\n      <th>100</th>\n      <td>2020-04-09</td>\n      <td>3836.0</td>\n      <td>540.0</td>\n      <td>NaN</td>\n    </tr>\n    <tr>\n      <th>101</th>\n      <td>2020-04-10</td>\n      <td>4204.0</td>\n      <td>612.0</td>\n      <td>NaN</td>\n    </tr>\n    <tr>\n      <th>102</th>\n      <td>2020-04-11</td>\n      <td>3951.0</td>\n      <td>570.0</td>\n      <td>NaN</td>\n    </tr>\n    <tr>\n      <th>103</th>\n      <td>2020-04-12</td>\n      <td>4694.0</td>\n      <td>619.0</td>\n      <td>NaN</td>\n    </tr>\n    <tr>\n      <th>104</th>\n      <td>2020-04-13</td>\n      <td>4092.0</td>\n      <td>431.0</td>\n      <td>NaN</td>\n    </tr>\n    <tr>\n      <th>105</th>\n      <td>2020-04-14</td>\n      <td>3153.0</td>\n      <td>564.0</td>\n      <td>NaN</td>\n    </tr>\n    <tr>\n      <th>106</th>\n      <td>2020-04-15</td>\n      <td>2972.0</td>\n      <td>604.0</td>\n      <td>NaN</td>\n    </tr>\n    <tr>\n      <th>107</th>\n      <td>2020-04-16</td>\n      <td>2667.0</td>\n      <td>578.0</td>\n      <td>NaN</td>\n    </tr>\n    <tr>\n      <th>108</th>\n      <td>2020-04-17</td>\n      <td>3786.0</td>\n      <td>525.0</td>\n      <td>NaN</td>\n    </tr>\n    <tr>\n      <th>109</th>\n      <td>2020-04-18</td>\n      <td>3493.0</td>\n      <td>575.0</td>\n      <td>NaN</td>\n    </tr>\n    <tr>\n      <th>110</th>\n      <td>2020-04-19</td>\n      <td>3491.0</td>\n      <td>480.0</td>\n      <td>NaN</td>\n    </tr>\n    <tr>\n      <th>111</th>\n      <td>2020-04-20</td>\n      <td>3047.0</td>\n      <td>433.0</td>\n      <td>7841.0</td>\n    </tr>\n    <tr>\n      <th>112</th>\n      <td>2020-04-21</td>\n      <td>2256.0</td>\n      <td>454.0</td>\n      <td>28095.0</td>\n    </tr>\n    <tr>\n      <th>113</th>\n      <td>2020-04-22</td>\n      <td>2729.0</td>\n      <td>534.0</td>\n      <td>44248.0</td>\n    </tr>\n    <tr>\n      <th>114</th>\n      <td>2020-04-23</td>\n      <td>3370.0</td>\n      <td>437.0</td>\n      <td>37083.0</td>\n    </tr>\n    <tr>\n      <th>115</th>\n      <td>2020-04-24</td>\n      <td>2646.0</td>\n      <td>464.0</td>\n      <td>95273.0</td>\n    </tr>\n    <tr>\n      <th>116</th>\n      <td>2020-04-25</td>\n      <td>3021.0</td>\n      <td>420.0</td>\n      <td>38676.0</td>\n    </tr>\n    <tr>\n      <th>117</th>\n      <td>2020-04-26</td>\n      <td>2357.0</td>\n      <td>415.0</td>\n      <td>24113.0</td>\n    </tr>\n    <tr>\n      <th>118</th>\n      <td>2020-04-27</td>\n      <td>2324.0</td>\n      <td>260.0</td>\n      <td>26678.0</td>\n    </tr>\n    <tr>\n      <th>119</th>\n      <td>2020-04-28</td>\n      <td>1739.0</td>\n      <td>333.0</td>\n      <td>37554.0</td>\n    </tr>\n    <tr>\n      <th>120</th>\n      <td>2020-04-29</td>\n      <td>2091.0</td>\n      <td>382.0</td>\n      <td>38589.0</td>\n    </tr>\n    <tr>\n      <th>121</th>\n      <td>2020-04-30</td>\n      <td>2086.0</td>\n      <td>323.0</td>\n      <td>41441.0</td>\n    </tr>\n    <tr>\n      <th>122</th>\n      <td>2020-05-01</td>\n      <td>1872.0</td>\n      <td>285.0</td>\n      <td>43732.0</td>\n    </tr>\n    <tr>\n      <th>123</th>\n      <td>2020-05-02</td>\n      <td>1965.0</td>\n      <td>269.0</td>\n      <td>31231.0</td>\n    </tr>\n    <tr>\n      <th>124</th>\n      <td>2020-05-03</td>\n      <td>1900.0</td>\n      <td>474.0</td>\n      <td>27047.0</td>\n    </tr>\n    <tr>\n      <th>125</th>\n      <td>2020-05-04</td>\n      <td>1389.0</td>\n      <td>174.0</td>\n      <td>22999.0</td>\n    </tr>\n    <tr>\n      <th>126</th>\n      <td>2020-05-05</td>\n      <td>1221.0</td>\n      <td>195.0</td>\n      <td>32211.0</td>\n    </tr>\n    <tr>\n      <th>127</th>\n      <td>2020-05-06</td>\n      <td>1075.0</td>\n      <td>236.0</td>\n      <td>37771.0</td>\n    </tr>\n    <tr>\n      <th>128</th>\n      <td>2020-05-07</td>\n      <td>1444.0</td>\n      <td>369.0</td>\n      <td>13665.0</td>\n    </tr>\n    <tr>\n      <th>129</th>\n      <td>2020-05-08</td>\n      <td>1401.0</td>\n      <td>274.0</td>\n      <td>45428.0</td>\n    </tr>\n    <tr>\n      <th>130</th>\n      <td>2020-05-09</td>\n      <td>1327.0</td>\n      <td>243.0</td>\n      <td>36091.0</td>\n    </tr>\n    <tr>\n      <th>131</th>\n      <td>2020-05-10</td>\n      <td>1083.0</td>\n      <td>194.0</td>\n      <td>31384.0</td>\n    </tr>\n    <tr>\n      <th>134</th>\n      <td>2020-05-13</td>\n      <td>1402.0</td>\n      <td>172.0</td>\n      <td>37049.0</td>\n    </tr>\n    <tr>\n      <th>236</th>\n      <td>2020-08-23</td>\n      <td>1071.0</td>\n      <td>3.0</td>\n      <td>47463.0</td>\n    </tr>\n    <tr>\n      <th>237</th>\n      <td>2020-08-24</td>\n      <td>1209.0</td>\n      <td>7.0</td>\n      <td>33358.0</td>\n    </tr>\n    <tr>\n      <th>240</th>\n      <td>2020-08-27</td>\n      <td>1366.0</td>\n      <td>13.0</td>\n      <td>57640.0</td>\n    </tr>\n    <tr>\n      <th>241</th>\n      <td>2020-08-28</td>\n      <td>1409.0</td>\n      <td>5.0</td>\n      <td>65135.0</td>\n    </tr>\n    <tr>\n      <th>242</th>\n      <td>2020-08-29</td>\n      <td>1460.0</td>\n      <td>9.0</td>\n      <td>64294.0</td>\n    </tr>\n    <tr>\n      <th>243</th>\n      <td>2020-08-30</td>\n      <td>1444.0</td>\n      <td>1.0</td>\n      <td>53541.0</td>\n    </tr>\n    <tr>\n      <th>244</th>\n      <td>2020-08-31</td>\n      <td>1365.0</td>\n      <td>4.0</td>\n      <td>42583.0</td>\n    </tr>\n    <tr>\n      <th>247</th>\n      <td>2020-09-03</td>\n      <td>1326.0</td>\n      <td>6.0</td>\n      <td>NaN</td>\n    </tr>\n  </tbody>\n</table>\n</div>"
     },
     "metadata": {},
     "output_type": "display_data"
    }
   ],
   "source": [
    "from IPython.display import display\n",
    "\n",
    "with pd.option_context('display.max_rows', 100):\n",
    "    display(covid_df[covid_df.new_cases > 1000])"
   ],
   "metadata": {
    "collapsed": false,
    "pycharm": {
     "name": "#%%\n"
    }
   }
  },
  {
   "cell_type": "code",
   "execution_count": 24,
   "outputs": [
    {
     "data": {
      "text/plain": "0.05206657403227681"
     },
     "execution_count": 24,
     "metadata": {},
     "output_type": "execute_result"
    }
   ],
   "source": [
    "positive_rate"
   ],
   "metadata": {
    "collapsed": false,
    "pycharm": {
     "name": "#%%\n"
    }
   }
  },
  {
   "cell_type": "code",
   "execution_count": 25,
   "outputs": [
    {
     "data": {
      "text/plain": "           date  new_cases  new_deaths  new_tests\n111  2020-04-20     3047.0       433.0     7841.0\n112  2020-04-21     2256.0       454.0    28095.0\n113  2020-04-22     2729.0       534.0    44248.0\n114  2020-04-23     3370.0       437.0    37083.0\n116  2020-04-25     3021.0       420.0    38676.0\n117  2020-04-26     2357.0       415.0    24113.0\n118  2020-04-27     2324.0       260.0    26678.0\n120  2020-04-29     2091.0       382.0    38589.0\n123  2020-05-02     1965.0       269.0    31231.0\n124  2020-05-03     1900.0       474.0    27047.0\n125  2020-05-04     1389.0       174.0    22999.0\n128  2020-05-07     1444.0       369.0    13665.0",
      "text/html": "<div>\n<style scoped>\n    .dataframe tbody tr th:only-of-type {\n        vertical-align: middle;\n    }\n\n    .dataframe tbody tr th {\n        vertical-align: top;\n    }\n\n    .dataframe thead th {\n        text-align: right;\n    }\n</style>\n<table border=\"1\" class=\"dataframe\">\n  <thead>\n    <tr style=\"text-align: right;\">\n      <th></th>\n      <th>date</th>\n      <th>new_cases</th>\n      <th>new_deaths</th>\n      <th>new_tests</th>\n    </tr>\n  </thead>\n  <tbody>\n    <tr>\n      <th>111</th>\n      <td>2020-04-20</td>\n      <td>3047.0</td>\n      <td>433.0</td>\n      <td>7841.0</td>\n    </tr>\n    <tr>\n      <th>112</th>\n      <td>2020-04-21</td>\n      <td>2256.0</td>\n      <td>454.0</td>\n      <td>28095.0</td>\n    </tr>\n    <tr>\n      <th>113</th>\n      <td>2020-04-22</td>\n      <td>2729.0</td>\n      <td>534.0</td>\n      <td>44248.0</td>\n    </tr>\n    <tr>\n      <th>114</th>\n      <td>2020-04-23</td>\n      <td>3370.0</td>\n      <td>437.0</td>\n      <td>37083.0</td>\n    </tr>\n    <tr>\n      <th>116</th>\n      <td>2020-04-25</td>\n      <td>3021.0</td>\n      <td>420.0</td>\n      <td>38676.0</td>\n    </tr>\n    <tr>\n      <th>117</th>\n      <td>2020-04-26</td>\n      <td>2357.0</td>\n      <td>415.0</td>\n      <td>24113.0</td>\n    </tr>\n    <tr>\n      <th>118</th>\n      <td>2020-04-27</td>\n      <td>2324.0</td>\n      <td>260.0</td>\n      <td>26678.0</td>\n    </tr>\n    <tr>\n      <th>120</th>\n      <td>2020-04-29</td>\n      <td>2091.0</td>\n      <td>382.0</td>\n      <td>38589.0</td>\n    </tr>\n    <tr>\n      <th>123</th>\n      <td>2020-05-02</td>\n      <td>1965.0</td>\n      <td>269.0</td>\n      <td>31231.0</td>\n    </tr>\n    <tr>\n      <th>124</th>\n      <td>2020-05-03</td>\n      <td>1900.0</td>\n      <td>474.0</td>\n      <td>27047.0</td>\n    </tr>\n    <tr>\n      <th>125</th>\n      <td>2020-05-04</td>\n      <td>1389.0</td>\n      <td>174.0</td>\n      <td>22999.0</td>\n    </tr>\n    <tr>\n      <th>128</th>\n      <td>2020-05-07</td>\n      <td>1444.0</td>\n      <td>369.0</td>\n      <td>13665.0</td>\n    </tr>\n  </tbody>\n</table>\n</div>"
     },
     "execution_count": 25,
     "metadata": {},
     "output_type": "execute_result"
    }
   ],
   "source": [
    "high_ratio_df = covid_df[covid_df.new_cases / covid_df.new_tests > positive_rate]\n",
    "\n",
    "high_ratio_df"
   ],
   "metadata": {
    "collapsed": false,
    "pycharm": {
     "name": "#%%\n"
    }
   }
  },
  {
   "cell_type": "code",
   "execution_count": 26,
   "outputs": [
    {
     "data": {
      "text/plain": "0           NaN\n1           NaN\n2           NaN\n3           NaN\n4           NaN\n         ...   \n243    0.026970\n244    0.032055\n245    0.018311\n246         NaN\n247         NaN\nLength: 248, dtype: float64"
     },
     "execution_count": 26,
     "metadata": {},
     "output_type": "execute_result"
    }
   ],
   "source": [
    "# The result of performing an operation on two columns is a new series.\n",
    "\n",
    "covid_df.new_cases / covid_df.new_tests"
   ],
   "metadata": {
    "collapsed": false,
    "pycharm": {
     "name": "#%%\n"
    }
   }
  },
  {
   "cell_type": "code",
   "execution_count": 27,
   "outputs": [
    {
     "data": {
      "text/plain": "           date  new_cases  new_deaths  new_tests  positive_rate\n0    2019-12-31        0.0         0.0        NaN            NaN\n1    2020-01-01        0.0         0.0        NaN            NaN\n2    2020-01-02        0.0         0.0        NaN            NaN\n3    2020-01-03        0.0         0.0        NaN            NaN\n4    2020-01-04        0.0         0.0        NaN            NaN\n..          ...        ...         ...        ...            ...\n243  2020-08-30     1444.0         1.0    53541.0       0.026970\n244  2020-08-31     1365.0         4.0    42583.0       0.032055\n245  2020-09-01      996.0         6.0    54395.0       0.018311\n246  2020-09-02      975.0         8.0        NaN            NaN\n247  2020-09-03     1326.0         6.0        NaN            NaN\n\n[248 rows x 5 columns]",
      "text/html": "<div>\n<style scoped>\n    .dataframe tbody tr th:only-of-type {\n        vertical-align: middle;\n    }\n\n    .dataframe tbody tr th {\n        vertical-align: top;\n    }\n\n    .dataframe thead th {\n        text-align: right;\n    }\n</style>\n<table border=\"1\" class=\"dataframe\">\n  <thead>\n    <tr style=\"text-align: right;\">\n      <th></th>\n      <th>date</th>\n      <th>new_cases</th>\n      <th>new_deaths</th>\n      <th>new_tests</th>\n      <th>positive_rate</th>\n    </tr>\n  </thead>\n  <tbody>\n    <tr>\n      <th>0</th>\n      <td>2019-12-31</td>\n      <td>0.0</td>\n      <td>0.0</td>\n      <td>NaN</td>\n      <td>NaN</td>\n    </tr>\n    <tr>\n      <th>1</th>\n      <td>2020-01-01</td>\n      <td>0.0</td>\n      <td>0.0</td>\n      <td>NaN</td>\n      <td>NaN</td>\n    </tr>\n    <tr>\n      <th>2</th>\n      <td>2020-01-02</td>\n      <td>0.0</td>\n      <td>0.0</td>\n      <td>NaN</td>\n      <td>NaN</td>\n    </tr>\n    <tr>\n      <th>3</th>\n      <td>2020-01-03</td>\n      <td>0.0</td>\n      <td>0.0</td>\n      <td>NaN</td>\n      <td>NaN</td>\n    </tr>\n    <tr>\n      <th>4</th>\n      <td>2020-01-04</td>\n      <td>0.0</td>\n      <td>0.0</td>\n      <td>NaN</td>\n      <td>NaN</td>\n    </tr>\n    <tr>\n      <th>...</th>\n      <td>...</td>\n      <td>...</td>\n      <td>...</td>\n      <td>...</td>\n      <td>...</td>\n    </tr>\n    <tr>\n      <th>243</th>\n      <td>2020-08-30</td>\n      <td>1444.0</td>\n      <td>1.0</td>\n      <td>53541.0</td>\n      <td>0.026970</td>\n    </tr>\n    <tr>\n      <th>244</th>\n      <td>2020-08-31</td>\n      <td>1365.0</td>\n      <td>4.0</td>\n      <td>42583.0</td>\n      <td>0.032055</td>\n    </tr>\n    <tr>\n      <th>245</th>\n      <td>2020-09-01</td>\n      <td>996.0</td>\n      <td>6.0</td>\n      <td>54395.0</td>\n      <td>0.018311</td>\n    </tr>\n    <tr>\n      <th>246</th>\n      <td>2020-09-02</td>\n      <td>975.0</td>\n      <td>8.0</td>\n      <td>NaN</td>\n      <td>NaN</td>\n    </tr>\n    <tr>\n      <th>247</th>\n      <td>2020-09-03</td>\n      <td>1326.0</td>\n      <td>6.0</td>\n      <td>NaN</td>\n      <td>NaN</td>\n    </tr>\n  </tbody>\n</table>\n<p>248 rows × 5 columns</p>\n</div>"
     },
     "execution_count": 27,
     "metadata": {},
     "output_type": "execute_result"
    }
   ],
   "source": [
    "# We can use this series to add a new column to the data frame.\n",
    "\n",
    "covid_df['positive_rate'] = covid_df.new_cases / covid_df.new_tests\n",
    "\n",
    "covid_df"
   ],
   "metadata": {
    "collapsed": false,
    "pycharm": {
     "name": "#%%\n"
    }
   }
  },
  {
   "cell_type": "code",
   "execution_count": 28,
   "outputs": [],
   "source": [
    "covid_df.drop(columns=['positive_rate'], inplace=True)\n",
    "\n",
    "# Can you figure the purpose of the inplace argument?"
   ],
   "metadata": {
    "collapsed": false,
    "pycharm": {
     "name": "#%%\n"
    }
   }
  },
  {
   "cell_type": "code",
   "execution_count": 29,
   "outputs": [
    {
     "data": {
      "text/plain": "          date  new_cases  new_deaths  new_tests\n82  2020-03-22     6557.0       795.0        NaN\n87  2020-03-27     6153.0       660.0        NaN\n81  2020-03-21     5986.0       625.0        NaN\n89  2020-03-29     5974.0       887.0        NaN\n88  2020-03-28     5959.0       971.0        NaN\n83  2020-03-23     5560.0       649.0        NaN\n80  2020-03-20     5322.0       429.0        NaN\n85  2020-03-25     5249.0       743.0        NaN\n90  2020-03-30     5217.0       758.0        NaN\n86  2020-03-26     5210.0       685.0        NaN",
      "text/html": "<div>\n<style scoped>\n    .dataframe tbody tr th:only-of-type {\n        vertical-align: middle;\n    }\n\n    .dataframe tbody tr th {\n        vertical-align: top;\n    }\n\n    .dataframe thead th {\n        text-align: right;\n    }\n</style>\n<table border=\"1\" class=\"dataframe\">\n  <thead>\n    <tr style=\"text-align: right;\">\n      <th></th>\n      <th>date</th>\n      <th>new_cases</th>\n      <th>new_deaths</th>\n      <th>new_tests</th>\n    </tr>\n  </thead>\n  <tbody>\n    <tr>\n      <th>82</th>\n      <td>2020-03-22</td>\n      <td>6557.0</td>\n      <td>795.0</td>\n      <td>NaN</td>\n    </tr>\n    <tr>\n      <th>87</th>\n      <td>2020-03-27</td>\n      <td>6153.0</td>\n      <td>660.0</td>\n      <td>NaN</td>\n    </tr>\n    <tr>\n      <th>81</th>\n      <td>2020-03-21</td>\n      <td>5986.0</td>\n      <td>625.0</td>\n      <td>NaN</td>\n    </tr>\n    <tr>\n      <th>89</th>\n      <td>2020-03-29</td>\n      <td>5974.0</td>\n      <td>887.0</td>\n      <td>NaN</td>\n    </tr>\n    <tr>\n      <th>88</th>\n      <td>2020-03-28</td>\n      <td>5959.0</td>\n      <td>971.0</td>\n      <td>NaN</td>\n    </tr>\n    <tr>\n      <th>83</th>\n      <td>2020-03-23</td>\n      <td>5560.0</td>\n      <td>649.0</td>\n      <td>NaN</td>\n    </tr>\n    <tr>\n      <th>80</th>\n      <td>2020-03-20</td>\n      <td>5322.0</td>\n      <td>429.0</td>\n      <td>NaN</td>\n    </tr>\n    <tr>\n      <th>85</th>\n      <td>2020-03-25</td>\n      <td>5249.0</td>\n      <td>743.0</td>\n      <td>NaN</td>\n    </tr>\n    <tr>\n      <th>90</th>\n      <td>2020-03-30</td>\n      <td>5217.0</td>\n      <td>758.0</td>\n      <td>NaN</td>\n    </tr>\n    <tr>\n      <th>86</th>\n      <td>2020-03-26</td>\n      <td>5210.0</td>\n      <td>685.0</td>\n      <td>NaN</td>\n    </tr>\n  </tbody>\n</table>\n</div>"
     },
     "execution_count": 29,
     "metadata": {},
     "output_type": "execute_result"
    }
   ],
   "source": [
    "# Sorting rows using column values\n",
    "\n",
    "covid_df.sort_values('new_cases', ascending=False).head(10)"
   ],
   "metadata": {
    "collapsed": false,
    "pycharm": {
     "name": "#%%\n"
    }
   }
  },
  {
   "cell_type": "code",
   "execution_count": 30,
   "outputs": [
    {
     "data": {
      "text/plain": "          date  new_cases  new_deaths  new_tests\n88  2020-03-28     5959.0       971.0        NaN\n89  2020-03-29     5974.0       887.0        NaN\n92  2020-04-01     4053.0       839.0        NaN\n91  2020-03-31     4050.0       810.0        NaN\n82  2020-03-22     6557.0       795.0        NaN\n95  2020-04-04     4585.0       764.0        NaN\n94  2020-04-03     4668.0       760.0        NaN\n90  2020-03-30     5217.0       758.0        NaN\n85  2020-03-25     5249.0       743.0        NaN\n93  2020-04-02     4782.0       727.0        NaN",
      "text/html": "<div>\n<style scoped>\n    .dataframe tbody tr th:only-of-type {\n        vertical-align: middle;\n    }\n\n    .dataframe tbody tr th {\n        vertical-align: top;\n    }\n\n    .dataframe thead th {\n        text-align: right;\n    }\n</style>\n<table border=\"1\" class=\"dataframe\">\n  <thead>\n    <tr style=\"text-align: right;\">\n      <th></th>\n      <th>date</th>\n      <th>new_cases</th>\n      <th>new_deaths</th>\n      <th>new_tests</th>\n    </tr>\n  </thead>\n  <tbody>\n    <tr>\n      <th>88</th>\n      <td>2020-03-28</td>\n      <td>5959.0</td>\n      <td>971.0</td>\n      <td>NaN</td>\n    </tr>\n    <tr>\n      <th>89</th>\n      <td>2020-03-29</td>\n      <td>5974.0</td>\n      <td>887.0</td>\n      <td>NaN</td>\n    </tr>\n    <tr>\n      <th>92</th>\n      <td>2020-04-01</td>\n      <td>4053.0</td>\n      <td>839.0</td>\n      <td>NaN</td>\n    </tr>\n    <tr>\n      <th>91</th>\n      <td>2020-03-31</td>\n      <td>4050.0</td>\n      <td>810.0</td>\n      <td>NaN</td>\n    </tr>\n    <tr>\n      <th>82</th>\n      <td>2020-03-22</td>\n      <td>6557.0</td>\n      <td>795.0</td>\n      <td>NaN</td>\n    </tr>\n    <tr>\n      <th>95</th>\n      <td>2020-04-04</td>\n      <td>4585.0</td>\n      <td>764.0</td>\n      <td>NaN</td>\n    </tr>\n    <tr>\n      <th>94</th>\n      <td>2020-04-03</td>\n      <td>4668.0</td>\n      <td>760.0</td>\n      <td>NaN</td>\n    </tr>\n    <tr>\n      <th>90</th>\n      <td>2020-03-30</td>\n      <td>5217.0</td>\n      <td>758.0</td>\n      <td>NaN</td>\n    </tr>\n    <tr>\n      <th>85</th>\n      <td>2020-03-25</td>\n      <td>5249.0</td>\n      <td>743.0</td>\n      <td>NaN</td>\n    </tr>\n    <tr>\n      <th>93</th>\n      <td>2020-04-02</td>\n      <td>4782.0</td>\n      <td>727.0</td>\n      <td>NaN</td>\n    </tr>\n  </tbody>\n</table>\n</div>"
     },
     "execution_count": 30,
     "metadata": {},
     "output_type": "execute_result"
    }
   ],
   "source": [
    "# It looks like the last two weeks of March had the highest number of daily cases. Let's compare this to the days where the highest number of deaths were recorded.\n",
    "\n",
    "covid_df.sort_values('new_deaths', ascending=False).head(10)"
   ],
   "metadata": {
    "collapsed": false,
    "pycharm": {
     "name": "#%%\n"
    }
   }
  },
  {
   "cell_type": "code",
   "execution_count": 31,
   "outputs": [
    {
     "data": {
      "text/plain": "           date  new_cases  new_deaths  new_tests\n172  2020-06-20     -148.0        47.0    29875.0\n0    2019-12-31        0.0         0.0        NaN\n29   2020-01-29        0.0         0.0        NaN\n30   2020-01-30        0.0         0.0        NaN\n32   2020-02-01        0.0         0.0        NaN\n33   2020-02-02        0.0         0.0        NaN\n34   2020-02-03        0.0         0.0        NaN\n36   2020-02-05        0.0         0.0        NaN\n37   2020-02-06        0.0         0.0        NaN\n38   2020-02-07        0.0         0.0        NaN",
      "text/html": "<div>\n<style scoped>\n    .dataframe tbody tr th:only-of-type {\n        vertical-align: middle;\n    }\n\n    .dataframe tbody tr th {\n        vertical-align: top;\n    }\n\n    .dataframe thead th {\n        text-align: right;\n    }\n</style>\n<table border=\"1\" class=\"dataframe\">\n  <thead>\n    <tr style=\"text-align: right;\">\n      <th></th>\n      <th>date</th>\n      <th>new_cases</th>\n      <th>new_deaths</th>\n      <th>new_tests</th>\n    </tr>\n  </thead>\n  <tbody>\n    <tr>\n      <th>172</th>\n      <td>2020-06-20</td>\n      <td>-148.0</td>\n      <td>47.0</td>\n      <td>29875.0</td>\n    </tr>\n    <tr>\n      <th>0</th>\n      <td>2019-12-31</td>\n      <td>0.0</td>\n      <td>0.0</td>\n      <td>NaN</td>\n    </tr>\n    <tr>\n      <th>29</th>\n      <td>2020-01-29</td>\n      <td>0.0</td>\n      <td>0.0</td>\n      <td>NaN</td>\n    </tr>\n    <tr>\n      <th>30</th>\n      <td>2020-01-30</td>\n      <td>0.0</td>\n      <td>0.0</td>\n      <td>NaN</td>\n    </tr>\n    <tr>\n      <th>32</th>\n      <td>2020-02-01</td>\n      <td>0.0</td>\n      <td>0.0</td>\n      <td>NaN</td>\n    </tr>\n    <tr>\n      <th>33</th>\n      <td>2020-02-02</td>\n      <td>0.0</td>\n      <td>0.0</td>\n      <td>NaN</td>\n    </tr>\n    <tr>\n      <th>34</th>\n      <td>2020-02-03</td>\n      <td>0.0</td>\n      <td>0.0</td>\n      <td>NaN</td>\n    </tr>\n    <tr>\n      <th>36</th>\n      <td>2020-02-05</td>\n      <td>0.0</td>\n      <td>0.0</td>\n      <td>NaN</td>\n    </tr>\n    <tr>\n      <th>37</th>\n      <td>2020-02-06</td>\n      <td>0.0</td>\n      <td>0.0</td>\n      <td>NaN</td>\n    </tr>\n    <tr>\n      <th>38</th>\n      <td>2020-02-07</td>\n      <td>0.0</td>\n      <td>0.0</td>\n      <td>NaN</td>\n    </tr>\n  </tbody>\n</table>\n</div>"
     },
     "execution_count": 31,
     "metadata": {},
     "output_type": "execute_result"
    }
   ],
   "source": [
    "covid_df.sort_values('new_cases').head(10)"
   ],
   "metadata": {
    "collapsed": false,
    "pycharm": {
     "name": "#%%\n"
    }
   }
  },
  {
   "cell_type": "code",
   "execution_count": 32,
   "outputs": [
    {
     "data": {
      "text/plain": "           date  new_cases  new_deaths  new_tests\n166  2020-06-14      346.0        78.0    29545.0\n167  2020-06-15      338.0        44.0    17463.0\n168  2020-06-16      301.0        26.0    27762.0\n169  2020-06-17      210.0        34.0    33957.0\n170  2020-06-18      328.0        43.0    32921.0\n171  2020-06-19      331.0        66.0    28570.0\n172  2020-06-20     -148.0        47.0    29875.0\n173  2020-06-21      264.0        49.0    24581.0\n174  2020-06-22      224.0        24.0    16152.0\n175  2020-06-23      221.0        23.0    23225.0",
      "text/html": "<div>\n<style scoped>\n    .dataframe tbody tr th:only-of-type {\n        vertical-align: middle;\n    }\n\n    .dataframe tbody tr th {\n        vertical-align: top;\n    }\n\n    .dataframe thead th {\n        text-align: right;\n    }\n</style>\n<table border=\"1\" class=\"dataframe\">\n  <thead>\n    <tr style=\"text-align: right;\">\n      <th></th>\n      <th>date</th>\n      <th>new_cases</th>\n      <th>new_deaths</th>\n      <th>new_tests</th>\n    </tr>\n  </thead>\n  <tbody>\n    <tr>\n      <th>166</th>\n      <td>2020-06-14</td>\n      <td>346.0</td>\n      <td>78.0</td>\n      <td>29545.0</td>\n    </tr>\n    <tr>\n      <th>167</th>\n      <td>2020-06-15</td>\n      <td>338.0</td>\n      <td>44.0</td>\n      <td>17463.0</td>\n    </tr>\n    <tr>\n      <th>168</th>\n      <td>2020-06-16</td>\n      <td>301.0</td>\n      <td>26.0</td>\n      <td>27762.0</td>\n    </tr>\n    <tr>\n      <th>169</th>\n      <td>2020-06-17</td>\n      <td>210.0</td>\n      <td>34.0</td>\n      <td>33957.0</td>\n    </tr>\n    <tr>\n      <th>170</th>\n      <td>2020-06-18</td>\n      <td>328.0</td>\n      <td>43.0</td>\n      <td>32921.0</td>\n    </tr>\n    <tr>\n      <th>171</th>\n      <td>2020-06-19</td>\n      <td>331.0</td>\n      <td>66.0</td>\n      <td>28570.0</td>\n    </tr>\n    <tr>\n      <th>172</th>\n      <td>2020-06-20</td>\n      <td>-148.0</td>\n      <td>47.0</td>\n      <td>29875.0</td>\n    </tr>\n    <tr>\n      <th>173</th>\n      <td>2020-06-21</td>\n      <td>264.0</td>\n      <td>49.0</td>\n      <td>24581.0</td>\n    </tr>\n    <tr>\n      <th>174</th>\n      <td>2020-06-22</td>\n      <td>224.0</td>\n      <td>24.0</td>\n      <td>16152.0</td>\n    </tr>\n    <tr>\n      <th>175</th>\n      <td>2020-06-23</td>\n      <td>221.0</td>\n      <td>23.0</td>\n      <td>23225.0</td>\n    </tr>\n  </tbody>\n</table>\n</div>"
     },
     "execution_count": 32,
     "metadata": {},
     "output_type": "execute_result"
    }
   ],
   "source": [
    "# Let's look at some days before and after Jun 20, 2020.\n",
    "\n",
    "covid_df.loc[166:175]"
   ],
   "metadata": {
    "collapsed": false,
    "pycharm": {
     "name": "#%%\n"
    }
   }
  },
  {
   "cell_type": "code",
   "execution_count": 33,
   "outputs": [],
   "source": [
    "covid_df.at[172, 'new_cases'] = (covid_df.at[171, 'new_cases'] + covid_df.at[173, 'new_cases'])/2"
   ],
   "metadata": {
    "collapsed": false,
    "pycharm": {
     "name": "#%%\n"
    }
   }
  },
  {
   "cell_type": "code",
   "execution_count": 34,
   "outputs": [
    {
     "data": {
      "text/plain": "0      2019-12-31\n1      2020-01-01\n2      2020-01-02\n3      2020-01-03\n4      2020-01-04\n          ...    \n243    2020-08-30\n244    2020-08-31\n245    2020-09-01\n246    2020-09-02\n247    2020-09-03\nName: date, Length: 248, dtype: object"
     },
     "execution_count": 34,
     "metadata": {},
     "output_type": "execute_result"
    }
   ],
   "source": [
    "covid_df.date"
   ],
   "metadata": {
    "collapsed": false,
    "pycharm": {
     "name": "#%%\n"
    }
   }
  },
  {
   "cell_type": "code",
   "execution_count": 35,
   "outputs": [
    {
     "data": {
      "text/plain": "0     2019-12-31\n1     2020-01-01\n2     2020-01-02\n3     2020-01-03\n4     2020-01-04\n         ...    \n243   2020-08-30\n244   2020-08-31\n245   2020-09-01\n246   2020-09-02\n247   2020-09-03\nName: date, Length: 248, dtype: datetime64[ns]"
     },
     "execution_count": 35,
     "metadata": {},
     "output_type": "execute_result"
    }
   ],
   "source": [
    "covid_df['date'] = pd.to_datetime(covid_df.date)\n",
    "\n",
    "covid_df['date']"
   ],
   "metadata": {
    "collapsed": false,
    "pycharm": {
     "name": "#%%\n"
    }
   }
  },
  {
   "cell_type": "code",
   "execution_count": 36,
   "outputs": [
    {
     "data": {
      "text/plain": "          date  new_cases  new_deaths  new_tests  year  month  day  weekday\n0   2019-12-31        0.0         0.0        NaN  2019     12   31        1\n1   2020-01-01        0.0         0.0        NaN  2020      1    1        2\n2   2020-01-02        0.0         0.0        NaN  2020      1    2        3\n3   2020-01-03        0.0         0.0        NaN  2020      1    3        4\n4   2020-01-04        0.0         0.0        NaN  2020      1    4        5\n..         ...        ...         ...        ...   ...    ...  ...      ...\n243 2020-08-30     1444.0         1.0    53541.0  2020      8   30        6\n244 2020-08-31     1365.0         4.0    42583.0  2020      8   31        0\n245 2020-09-01      996.0         6.0    54395.0  2020      9    1        1\n246 2020-09-02      975.0         8.0        NaN  2020      9    2        2\n247 2020-09-03     1326.0         6.0        NaN  2020      9    3        3\n\n[248 rows x 8 columns]",
      "text/html": "<div>\n<style scoped>\n    .dataframe tbody tr th:only-of-type {\n        vertical-align: middle;\n    }\n\n    .dataframe tbody tr th {\n        vertical-align: top;\n    }\n\n    .dataframe thead th {\n        text-align: right;\n    }\n</style>\n<table border=\"1\" class=\"dataframe\">\n  <thead>\n    <tr style=\"text-align: right;\">\n      <th></th>\n      <th>date</th>\n      <th>new_cases</th>\n      <th>new_deaths</th>\n      <th>new_tests</th>\n      <th>year</th>\n      <th>month</th>\n      <th>day</th>\n      <th>weekday</th>\n    </tr>\n  </thead>\n  <tbody>\n    <tr>\n      <th>0</th>\n      <td>2019-12-31</td>\n      <td>0.0</td>\n      <td>0.0</td>\n      <td>NaN</td>\n      <td>2019</td>\n      <td>12</td>\n      <td>31</td>\n      <td>1</td>\n    </tr>\n    <tr>\n      <th>1</th>\n      <td>2020-01-01</td>\n      <td>0.0</td>\n      <td>0.0</td>\n      <td>NaN</td>\n      <td>2020</td>\n      <td>1</td>\n      <td>1</td>\n      <td>2</td>\n    </tr>\n    <tr>\n      <th>2</th>\n      <td>2020-01-02</td>\n      <td>0.0</td>\n      <td>0.0</td>\n      <td>NaN</td>\n      <td>2020</td>\n      <td>1</td>\n      <td>2</td>\n      <td>3</td>\n    </tr>\n    <tr>\n      <th>3</th>\n      <td>2020-01-03</td>\n      <td>0.0</td>\n      <td>0.0</td>\n      <td>NaN</td>\n      <td>2020</td>\n      <td>1</td>\n      <td>3</td>\n      <td>4</td>\n    </tr>\n    <tr>\n      <th>4</th>\n      <td>2020-01-04</td>\n      <td>0.0</td>\n      <td>0.0</td>\n      <td>NaN</td>\n      <td>2020</td>\n      <td>1</td>\n      <td>4</td>\n      <td>5</td>\n    </tr>\n    <tr>\n      <th>...</th>\n      <td>...</td>\n      <td>...</td>\n      <td>...</td>\n      <td>...</td>\n      <td>...</td>\n      <td>...</td>\n      <td>...</td>\n      <td>...</td>\n    </tr>\n    <tr>\n      <th>243</th>\n      <td>2020-08-30</td>\n      <td>1444.0</td>\n      <td>1.0</td>\n      <td>53541.0</td>\n      <td>2020</td>\n      <td>8</td>\n      <td>30</td>\n      <td>6</td>\n    </tr>\n    <tr>\n      <th>244</th>\n      <td>2020-08-31</td>\n      <td>1365.0</td>\n      <td>4.0</td>\n      <td>42583.0</td>\n      <td>2020</td>\n      <td>8</td>\n      <td>31</td>\n      <td>0</td>\n    </tr>\n    <tr>\n      <th>245</th>\n      <td>2020-09-01</td>\n      <td>996.0</td>\n      <td>6.0</td>\n      <td>54395.0</td>\n      <td>2020</td>\n      <td>9</td>\n      <td>1</td>\n      <td>1</td>\n    </tr>\n    <tr>\n      <th>246</th>\n      <td>2020-09-02</td>\n      <td>975.0</td>\n      <td>8.0</td>\n      <td>NaN</td>\n      <td>2020</td>\n      <td>9</td>\n      <td>2</td>\n      <td>2</td>\n    </tr>\n    <tr>\n      <th>247</th>\n      <td>2020-09-03</td>\n      <td>1326.0</td>\n      <td>6.0</td>\n      <td>NaN</td>\n      <td>2020</td>\n      <td>9</td>\n      <td>3</td>\n      <td>3</td>\n    </tr>\n  </tbody>\n</table>\n<p>248 rows × 8 columns</p>\n</div>"
     },
     "execution_count": 36,
     "metadata": {},
     "output_type": "execute_result"
    }
   ],
   "source": [
    "covid_df['year'] = pd.DatetimeIndex(covid_df.date).year\n",
    "covid_df['month'] = pd.DatetimeIndex(covid_df.date).month\n",
    "covid_df['day'] = pd.DatetimeIndex(covid_df.date).day\n",
    "covid_df['weekday'] = pd.DatetimeIndex(covid_df.date).weekday\n",
    "\n",
    "covid_df"
   ],
   "metadata": {
    "collapsed": false,
    "pycharm": {
     "name": "#%%\n"
    }
   }
  },
  {
   "cell_type": "code",
   "execution_count": 37,
   "outputs": [
    {
     "data": {
      "text/plain": "new_cases       29073.0\nnew_deaths       5658.0\nnew_tests     1078720.0\ndtype: float64"
     },
     "execution_count": 37,
     "metadata": {},
     "output_type": "execute_result"
    }
   ],
   "source": [
    "# Query the rows for May\n",
    "covid_df_may = covid_df[covid_df.month == 5]\n",
    "\n",
    "# Extract the subset of columns to be aggregated\n",
    "covid_df_may_metrics = covid_df_may[['new_cases', 'new_deaths', 'new_tests']]\n",
    "\n",
    "# Get the column-wise sum\n",
    "covid_may_totals = covid_df_may_metrics.sum()\n",
    "\n",
    "covid_may_totals"
   ],
   "metadata": {
    "collapsed": false,
    "pycharm": {
     "name": "#%%\n"
    }
   }
  },
  {
   "cell_type": "code",
   "execution_count": 38,
   "outputs": [
    {
     "data": {
      "text/plain": "pandas.core.series.Series"
     },
     "execution_count": 38,
     "metadata": {},
     "output_type": "execute_result"
    }
   ],
   "source": [
    "type(covid_may_totals)\n",
    "\n",
    "# Output: pandas.core.series.Series"
   ],
   "metadata": {
    "collapsed": false,
    "pycharm": {
     "name": "#%%\n"
    }
   }
  },
  {
   "cell_type": "code",
   "execution_count": 39,
   "outputs": [
    {
     "data": {
      "text/plain": "new_cases       29073.0\nnew_deaths       5658.0\nnew_tests     1078720.0\ndtype: float64"
     },
     "execution_count": 39,
     "metadata": {},
     "output_type": "execute_result"
    }
   ],
   "source": [
    "# We can also combine the above operations into a single statement.\n",
    "\n",
    "covid_df[covid_df.month == 5][['new_cases', 'new_deaths', 'new_tests']].sum()"
   ],
   "metadata": {
    "collapsed": false,
    "pycharm": {
     "name": "#%%\n"
    }
   }
  },
  {
   "cell_type": "code",
   "execution_count": 40,
   "outputs": [
    {
     "data": {
      "text/plain": "1096.6149193548388"
     },
     "execution_count": 40,
     "metadata": {},
     "output_type": "execute_result"
    }
   ],
   "source": [
    "# Overall average\n",
    "covid_df.new_cases.mean()"
   ],
   "metadata": {
    "collapsed": false,
    "pycharm": {
     "name": "#%%\n"
    }
   }
  },
  {
   "cell_type": "code",
   "execution_count": 41,
   "outputs": [
    {
     "data": {
      "text/plain": "1247.2571428571428"
     },
     "execution_count": 41,
     "metadata": {},
     "output_type": "execute_result"
    }
   ],
   "source": [
    "# Average for Sundays\n",
    "covid_df[covid_df.weekday == 6].new_cases.mean()"
   ],
   "metadata": {
    "collapsed": false,
    "pycharm": {
     "name": "#%%\n"
    }
   }
  },
  {
   "cell_type": "code",
   "execution_count": 42,
   "outputs": [
    {
     "data": {
      "text/plain": "       new_cases  new_deaths  new_tests\nmonth                                  \n1            3.0         0.0        0.0\n2          885.0        21.0        0.0\n3       100851.0     11570.0        0.0\n4       101852.0     16091.0   419591.0\n5        29073.0      5658.0  1078720.0\n6         8217.5      1404.0   830354.0\n7         6722.0       388.0   797692.0\n8        21060.0       345.0  1098704.0\n9         3297.0        20.0    54395.0\n12           0.0         0.0        0.0",
      "text/html": "<div>\n<style scoped>\n    .dataframe tbody tr th:only-of-type {\n        vertical-align: middle;\n    }\n\n    .dataframe tbody tr th {\n        vertical-align: top;\n    }\n\n    .dataframe thead th {\n        text-align: right;\n    }\n</style>\n<table border=\"1\" class=\"dataframe\">\n  <thead>\n    <tr style=\"text-align: right;\">\n      <th></th>\n      <th>new_cases</th>\n      <th>new_deaths</th>\n      <th>new_tests</th>\n    </tr>\n    <tr>\n      <th>month</th>\n      <th></th>\n      <th></th>\n      <th></th>\n    </tr>\n  </thead>\n  <tbody>\n    <tr>\n      <th>1</th>\n      <td>3.0</td>\n      <td>0.0</td>\n      <td>0.0</td>\n    </tr>\n    <tr>\n      <th>2</th>\n      <td>885.0</td>\n      <td>21.0</td>\n      <td>0.0</td>\n    </tr>\n    <tr>\n      <th>3</th>\n      <td>100851.0</td>\n      <td>11570.0</td>\n      <td>0.0</td>\n    </tr>\n    <tr>\n      <th>4</th>\n      <td>101852.0</td>\n      <td>16091.0</td>\n      <td>419591.0</td>\n    </tr>\n    <tr>\n      <th>5</th>\n      <td>29073.0</td>\n      <td>5658.0</td>\n      <td>1078720.0</td>\n    </tr>\n    <tr>\n      <th>6</th>\n      <td>8217.5</td>\n      <td>1404.0</td>\n      <td>830354.0</td>\n    </tr>\n    <tr>\n      <th>7</th>\n      <td>6722.0</td>\n      <td>388.0</td>\n      <td>797692.0</td>\n    </tr>\n    <tr>\n      <th>8</th>\n      <td>21060.0</td>\n      <td>345.0</td>\n      <td>1098704.0</td>\n    </tr>\n    <tr>\n      <th>9</th>\n      <td>3297.0</td>\n      <td>20.0</td>\n      <td>54395.0</td>\n    </tr>\n    <tr>\n      <th>12</th>\n      <td>0.0</td>\n      <td>0.0</td>\n      <td>0.0</td>\n    </tr>\n  </tbody>\n</table>\n</div>"
     },
     "execution_count": 42,
     "metadata": {},
     "output_type": "execute_result"
    }
   ],
   "source": [
    "covid_month_df = covid_df.groupby('month')[['new_cases', 'new_deaths', 'new_tests']].sum()\n",
    "\n",
    "covid_month_df"
   ],
   "metadata": {
    "collapsed": false,
    "pycharm": {
     "name": "#%%\n"
    }
   }
  },
  {
   "cell_type": "code",
   "execution_count": 43,
   "outputs": [
    {
     "data": {
      "text/plain": "         new_cases  new_deaths     new_tests\nmonth                                       \n1         0.096774    0.000000           NaN\n2        30.517241    0.724138           NaN\n3      3253.258065  373.225806           NaN\n4      3395.066667  536.366667  38144.636364\n5       937.838710  182.516129  34797.419355\n6       273.916667   46.800000  27678.466667\n7       216.838710   12.516129  25732.000000\n8       679.354839   11.129032  35442.064516\n9      1099.000000    6.666667  54395.000000\n12        0.000000    0.000000           NaN",
      "text/html": "<div>\n<style scoped>\n    .dataframe tbody tr th:only-of-type {\n        vertical-align: middle;\n    }\n\n    .dataframe tbody tr th {\n        vertical-align: top;\n    }\n\n    .dataframe thead th {\n        text-align: right;\n    }\n</style>\n<table border=\"1\" class=\"dataframe\">\n  <thead>\n    <tr style=\"text-align: right;\">\n      <th></th>\n      <th>new_cases</th>\n      <th>new_deaths</th>\n      <th>new_tests</th>\n    </tr>\n    <tr>\n      <th>month</th>\n      <th></th>\n      <th></th>\n      <th></th>\n    </tr>\n  </thead>\n  <tbody>\n    <tr>\n      <th>1</th>\n      <td>0.096774</td>\n      <td>0.000000</td>\n      <td>NaN</td>\n    </tr>\n    <tr>\n      <th>2</th>\n      <td>30.517241</td>\n      <td>0.724138</td>\n      <td>NaN</td>\n    </tr>\n    <tr>\n      <th>3</th>\n      <td>3253.258065</td>\n      <td>373.225806</td>\n      <td>NaN</td>\n    </tr>\n    <tr>\n      <th>4</th>\n      <td>3395.066667</td>\n      <td>536.366667</td>\n      <td>38144.636364</td>\n    </tr>\n    <tr>\n      <th>5</th>\n      <td>937.838710</td>\n      <td>182.516129</td>\n      <td>34797.419355</td>\n    </tr>\n    <tr>\n      <th>6</th>\n      <td>273.916667</td>\n      <td>46.800000</td>\n      <td>27678.466667</td>\n    </tr>\n    <tr>\n      <th>7</th>\n      <td>216.838710</td>\n      <td>12.516129</td>\n      <td>25732.000000</td>\n    </tr>\n    <tr>\n      <th>8</th>\n      <td>679.354839</td>\n      <td>11.129032</td>\n      <td>35442.064516</td>\n    </tr>\n    <tr>\n      <th>9</th>\n      <td>1099.000000</td>\n      <td>6.666667</td>\n      <td>54395.000000</td>\n    </tr>\n    <tr>\n      <th>12</th>\n      <td>0.000000</td>\n      <td>0.000000</td>\n      <td>NaN</td>\n    </tr>\n  </tbody>\n</table>\n</div>"
     },
     "execution_count": 43,
     "metadata": {},
     "output_type": "execute_result"
    }
   ],
   "source": [
    "covid_month_mean_df = covid_df.groupby('month')[['new_cases', 'new_deaths', 'new_tests']].mean()\n",
    "\n",
    "covid_month_mean_df"
   ],
   "metadata": {
    "collapsed": false,
    "pycharm": {
     "name": "#%%\n"
    }
   }
  },
  {
   "cell_type": "code",
   "execution_count": 44,
   "outputs": [
    {
     "data": {
      "text/plain": "          date  new_cases  new_deaths  new_tests  year  month  day  weekday  \\\n0   2019-12-31        0.0         0.0        NaN  2019     12   31        1   \n1   2020-01-01        0.0         0.0        NaN  2020      1    1        2   \n2   2020-01-02        0.0         0.0        NaN  2020      1    2        3   \n3   2020-01-03        0.0         0.0        NaN  2020      1    3        4   \n4   2020-01-04        0.0         0.0        NaN  2020      1    4        5   \n..         ...        ...         ...        ...   ...    ...  ...      ...   \n243 2020-08-30     1444.0         1.0    53541.0  2020      8   30        6   \n244 2020-08-31     1365.0         4.0    42583.0  2020      8   31        0   \n245 2020-09-01      996.0         6.0    54395.0  2020      9    1        1   \n246 2020-09-02      975.0         8.0        NaN  2020      9    2        2   \n247 2020-09-03     1326.0         6.0        NaN  2020      9    3        3   \n\n     total_cases  total_deaths  total_tests  \n0            0.0           0.0          NaN  \n1            0.0           0.0          NaN  \n2            0.0           0.0          NaN  \n3            0.0           0.0          NaN  \n4            0.0           0.0          NaN  \n..           ...           ...          ...  \n243     267298.5       35473.0    5117788.0  \n244     268663.5       35477.0    5160371.0  \n245     269659.5       35483.0    5214766.0  \n246     270634.5       35491.0          NaN  \n247     271960.5       35497.0          NaN  \n\n[248 rows x 11 columns]",
      "text/html": "<div>\n<style scoped>\n    .dataframe tbody tr th:only-of-type {\n        vertical-align: middle;\n    }\n\n    .dataframe tbody tr th {\n        vertical-align: top;\n    }\n\n    .dataframe thead th {\n        text-align: right;\n    }\n</style>\n<table border=\"1\" class=\"dataframe\">\n  <thead>\n    <tr style=\"text-align: right;\">\n      <th></th>\n      <th>date</th>\n      <th>new_cases</th>\n      <th>new_deaths</th>\n      <th>new_tests</th>\n      <th>year</th>\n      <th>month</th>\n      <th>day</th>\n      <th>weekday</th>\n      <th>total_cases</th>\n      <th>total_deaths</th>\n      <th>total_tests</th>\n    </tr>\n  </thead>\n  <tbody>\n    <tr>\n      <th>0</th>\n      <td>2019-12-31</td>\n      <td>0.0</td>\n      <td>0.0</td>\n      <td>NaN</td>\n      <td>2019</td>\n      <td>12</td>\n      <td>31</td>\n      <td>1</td>\n      <td>0.0</td>\n      <td>0.0</td>\n      <td>NaN</td>\n    </tr>\n    <tr>\n      <th>1</th>\n      <td>2020-01-01</td>\n      <td>0.0</td>\n      <td>0.0</td>\n      <td>NaN</td>\n      <td>2020</td>\n      <td>1</td>\n      <td>1</td>\n      <td>2</td>\n      <td>0.0</td>\n      <td>0.0</td>\n      <td>NaN</td>\n    </tr>\n    <tr>\n      <th>2</th>\n      <td>2020-01-02</td>\n      <td>0.0</td>\n      <td>0.0</td>\n      <td>NaN</td>\n      <td>2020</td>\n      <td>1</td>\n      <td>2</td>\n      <td>3</td>\n      <td>0.0</td>\n      <td>0.0</td>\n      <td>NaN</td>\n    </tr>\n    <tr>\n      <th>3</th>\n      <td>2020-01-03</td>\n      <td>0.0</td>\n      <td>0.0</td>\n      <td>NaN</td>\n      <td>2020</td>\n      <td>1</td>\n      <td>3</td>\n      <td>4</td>\n      <td>0.0</td>\n      <td>0.0</td>\n      <td>NaN</td>\n    </tr>\n    <tr>\n      <th>4</th>\n      <td>2020-01-04</td>\n      <td>0.0</td>\n      <td>0.0</td>\n      <td>NaN</td>\n      <td>2020</td>\n      <td>1</td>\n      <td>4</td>\n      <td>5</td>\n      <td>0.0</td>\n      <td>0.0</td>\n      <td>NaN</td>\n    </tr>\n    <tr>\n      <th>...</th>\n      <td>...</td>\n      <td>...</td>\n      <td>...</td>\n      <td>...</td>\n      <td>...</td>\n      <td>...</td>\n      <td>...</td>\n      <td>...</td>\n      <td>...</td>\n      <td>...</td>\n      <td>...</td>\n    </tr>\n    <tr>\n      <th>243</th>\n      <td>2020-08-30</td>\n      <td>1444.0</td>\n      <td>1.0</td>\n      <td>53541.0</td>\n      <td>2020</td>\n      <td>8</td>\n      <td>30</td>\n      <td>6</td>\n      <td>267298.5</td>\n      <td>35473.0</td>\n      <td>5117788.0</td>\n    </tr>\n    <tr>\n      <th>244</th>\n      <td>2020-08-31</td>\n      <td>1365.0</td>\n      <td>4.0</td>\n      <td>42583.0</td>\n      <td>2020</td>\n      <td>8</td>\n      <td>31</td>\n      <td>0</td>\n      <td>268663.5</td>\n      <td>35477.0</td>\n      <td>5160371.0</td>\n    </tr>\n    <tr>\n      <th>245</th>\n      <td>2020-09-01</td>\n      <td>996.0</td>\n      <td>6.0</td>\n      <td>54395.0</td>\n      <td>2020</td>\n      <td>9</td>\n      <td>1</td>\n      <td>1</td>\n      <td>269659.5</td>\n      <td>35483.0</td>\n      <td>5214766.0</td>\n    </tr>\n    <tr>\n      <th>246</th>\n      <td>2020-09-02</td>\n      <td>975.0</td>\n      <td>8.0</td>\n      <td>NaN</td>\n      <td>2020</td>\n      <td>9</td>\n      <td>2</td>\n      <td>2</td>\n      <td>270634.5</td>\n      <td>35491.0</td>\n      <td>NaN</td>\n    </tr>\n    <tr>\n      <th>247</th>\n      <td>2020-09-03</td>\n      <td>1326.0</td>\n      <td>6.0</td>\n      <td>NaN</td>\n      <td>2020</td>\n      <td>9</td>\n      <td>3</td>\n      <td>3</td>\n      <td>271960.5</td>\n      <td>35497.0</td>\n      <td>NaN</td>\n    </tr>\n  </tbody>\n</table>\n<p>248 rows × 11 columns</p>\n</div>"
     },
     "execution_count": 44,
     "metadata": {},
     "output_type": "execute_result"
    }
   ],
   "source": [
    "covid_df['total_cases'] = covid_df.new_cases.cumsum()\n",
    "covid_df['total_deaths'] = covid_df.new_deaths.cumsum()\n",
    "covid_df['total_tests'] = covid_df.new_tests.cumsum() + initial_tests\n",
    "\n",
    "# We've also included the initial test count in total_test to account for\n",
    "# tests conducted before daily reporting was started.\n",
    "\n",
    "covid_df\n",
    "\n",
    "# Notice how the `NaN` values in the `total_tests` column remain unaffected."
   ],
   "metadata": {
    "collapsed": false,
    "pycharm": {
     "name": "#%%\n"
    }
   }
  },
  {
   "cell_type": "code",
   "execution_count": 45,
   "outputs": [
    {
     "data": {
      "text/plain": "('locations.csv', <http.client.HTTPMessage at 0x22149cfb460>)"
     },
     "execution_count": 45,
     "metadata": {},
     "output_type": "execute_result"
    }
   ],
   "source": [
    "# Merging data from multiple sources\n",
    "\n",
    "urlretrieve('https://gist.githubusercontent.com/aakashns/8684589ef4f266116cdce023377fc9c8/raw/99ce3826b2a9d1e6d0bde7e9e559fc8b6e9ac88b/locations.csv',\n",
    "            'locations.csv')"
   ],
   "metadata": {
    "collapsed": false,
    "pycharm": {
     "name": "#%%\n"
    }
   }
  },
  {
   "cell_type": "code",
   "execution_count": 46,
   "outputs": [
    {
     "data": {
      "text/plain": "          location continent    population  life_expectancy  \\\n0      Afghanistan      Asia  3.892834e+07            64.83   \n1          Albania    Europe  2.877800e+06            78.57   \n2          Algeria    Africa  4.385104e+07            76.88   \n3          Andorra    Europe  7.726500e+04            83.73   \n4           Angola    Africa  3.286627e+07            61.15   \n..             ...       ...           ...              ...   \n207          Yemen      Asia  2.982597e+07            66.12   \n208         Zambia    Africa  1.838396e+07            63.89   \n209       Zimbabwe    Africa  1.486293e+07            61.49   \n210          World       NaN  7.794799e+09            72.58   \n211  International       NaN           NaN              NaN   \n\n     hospital_beds_per_thousand  gdp_per_capita  \n0                         0.500        1803.987  \n1                         2.890       11803.431  \n2                         1.900       13913.839  \n3                           NaN             NaN  \n4                           NaN        5819.495  \n..                          ...             ...  \n207                       0.700        1479.147  \n208                       2.000        3689.251  \n209                       1.700        1899.775  \n210                       2.705       15469.207  \n211                         NaN             NaN  \n\n[212 rows x 6 columns]",
      "text/html": "<div>\n<style scoped>\n    .dataframe tbody tr th:only-of-type {\n        vertical-align: middle;\n    }\n\n    .dataframe tbody tr th {\n        vertical-align: top;\n    }\n\n    .dataframe thead th {\n        text-align: right;\n    }\n</style>\n<table border=\"1\" class=\"dataframe\">\n  <thead>\n    <tr style=\"text-align: right;\">\n      <th></th>\n      <th>location</th>\n      <th>continent</th>\n      <th>population</th>\n      <th>life_expectancy</th>\n      <th>hospital_beds_per_thousand</th>\n      <th>gdp_per_capita</th>\n    </tr>\n  </thead>\n  <tbody>\n    <tr>\n      <th>0</th>\n      <td>Afghanistan</td>\n      <td>Asia</td>\n      <td>3.892834e+07</td>\n      <td>64.83</td>\n      <td>0.500</td>\n      <td>1803.987</td>\n    </tr>\n    <tr>\n      <th>1</th>\n      <td>Albania</td>\n      <td>Europe</td>\n      <td>2.877800e+06</td>\n      <td>78.57</td>\n      <td>2.890</td>\n      <td>11803.431</td>\n    </tr>\n    <tr>\n      <th>2</th>\n      <td>Algeria</td>\n      <td>Africa</td>\n      <td>4.385104e+07</td>\n      <td>76.88</td>\n      <td>1.900</td>\n      <td>13913.839</td>\n    </tr>\n    <tr>\n      <th>3</th>\n      <td>Andorra</td>\n      <td>Europe</td>\n      <td>7.726500e+04</td>\n      <td>83.73</td>\n      <td>NaN</td>\n      <td>NaN</td>\n    </tr>\n    <tr>\n      <th>4</th>\n      <td>Angola</td>\n      <td>Africa</td>\n      <td>3.286627e+07</td>\n      <td>61.15</td>\n      <td>NaN</td>\n      <td>5819.495</td>\n    </tr>\n    <tr>\n      <th>...</th>\n      <td>...</td>\n      <td>...</td>\n      <td>...</td>\n      <td>...</td>\n      <td>...</td>\n      <td>...</td>\n    </tr>\n    <tr>\n      <th>207</th>\n      <td>Yemen</td>\n      <td>Asia</td>\n      <td>2.982597e+07</td>\n      <td>66.12</td>\n      <td>0.700</td>\n      <td>1479.147</td>\n    </tr>\n    <tr>\n      <th>208</th>\n      <td>Zambia</td>\n      <td>Africa</td>\n      <td>1.838396e+07</td>\n      <td>63.89</td>\n      <td>2.000</td>\n      <td>3689.251</td>\n    </tr>\n    <tr>\n      <th>209</th>\n      <td>Zimbabwe</td>\n      <td>Africa</td>\n      <td>1.486293e+07</td>\n      <td>61.49</td>\n      <td>1.700</td>\n      <td>1899.775</td>\n    </tr>\n    <tr>\n      <th>210</th>\n      <td>World</td>\n      <td>NaN</td>\n      <td>7.794799e+09</td>\n      <td>72.58</td>\n      <td>2.705</td>\n      <td>15469.207</td>\n    </tr>\n    <tr>\n      <th>211</th>\n      <td>International</td>\n      <td>NaN</td>\n      <td>NaN</td>\n      <td>NaN</td>\n      <td>NaN</td>\n      <td>NaN</td>\n    </tr>\n  </tbody>\n</table>\n<p>212 rows × 6 columns</p>\n</div>"
     },
     "execution_count": 46,
     "metadata": {},
     "output_type": "execute_result"
    }
   ],
   "source": [
    "locations_df = pd.read_csv('locations.csv')\n",
    "\n",
    "locations_df"
   ],
   "metadata": {
    "collapsed": false,
    "pycharm": {
     "name": "#%%\n"
    }
   }
  },
  {
   "cell_type": "code",
   "execution_count": 47,
   "outputs": [
    {
     "data": {
      "text/plain": "   location continent  population  life_expectancy  \\\n97    Italy    Europe  60461828.0            83.51   \n\n    hospital_beds_per_thousand  gdp_per_capita  \n97                        3.18       35220.084  ",
      "text/html": "<div>\n<style scoped>\n    .dataframe tbody tr th:only-of-type {\n        vertical-align: middle;\n    }\n\n    .dataframe tbody tr th {\n        vertical-align: top;\n    }\n\n    .dataframe thead th {\n        text-align: right;\n    }\n</style>\n<table border=\"1\" class=\"dataframe\">\n  <thead>\n    <tr style=\"text-align: right;\">\n      <th></th>\n      <th>location</th>\n      <th>continent</th>\n      <th>population</th>\n      <th>life_expectancy</th>\n      <th>hospital_beds_per_thousand</th>\n      <th>gdp_per_capita</th>\n    </tr>\n  </thead>\n  <tbody>\n    <tr>\n      <th>97</th>\n      <td>Italy</td>\n      <td>Europe</td>\n      <td>60461828.0</td>\n      <td>83.51</td>\n      <td>3.18</td>\n      <td>35220.084</td>\n    </tr>\n  </tbody>\n</table>\n</div>"
     },
     "execution_count": 47,
     "metadata": {},
     "output_type": "execute_result"
    }
   ],
   "source": [
    "locations_df[locations_df.location == \"Italy\"]"
   ],
   "metadata": {
    "collapsed": false,
    "pycharm": {
     "name": "#%%\n"
    }
   }
  },
  {
   "cell_type": "code",
   "execution_count": 48,
   "outputs": [
    {
     "data": {
      "text/plain": "          date  new_cases  new_deaths  new_tests  year  month  day  weekday  \\\n0   2019-12-31        0.0         0.0        NaN  2019     12   31        1   \n1   2020-01-01        0.0         0.0        NaN  2020      1    1        2   \n2   2020-01-02        0.0         0.0        NaN  2020      1    2        3   \n3   2020-01-03        0.0         0.0        NaN  2020      1    3        4   \n4   2020-01-04        0.0         0.0        NaN  2020      1    4        5   \n..         ...        ...         ...        ...   ...    ...  ...      ...   \n243 2020-08-30     1444.0         1.0    53541.0  2020      8   30        6   \n244 2020-08-31     1365.0         4.0    42583.0  2020      8   31        0   \n245 2020-09-01      996.0         6.0    54395.0  2020      9    1        1   \n246 2020-09-02      975.0         8.0        NaN  2020      9    2        2   \n247 2020-09-03     1326.0         6.0        NaN  2020      9    3        3   \n\n     total_cases  total_deaths  total_tests location  \n0            0.0           0.0          NaN    Italy  \n1            0.0           0.0          NaN    Italy  \n2            0.0           0.0          NaN    Italy  \n3            0.0           0.0          NaN    Italy  \n4            0.0           0.0          NaN    Italy  \n..           ...           ...          ...      ...  \n243     267298.5       35473.0    5117788.0    Italy  \n244     268663.5       35477.0    5160371.0    Italy  \n245     269659.5       35483.0    5214766.0    Italy  \n246     270634.5       35491.0          NaN    Italy  \n247     271960.5       35497.0          NaN    Italy  \n\n[248 rows x 12 columns]",
      "text/html": "<div>\n<style scoped>\n    .dataframe tbody tr th:only-of-type {\n        vertical-align: middle;\n    }\n\n    .dataframe tbody tr th {\n        vertical-align: top;\n    }\n\n    .dataframe thead th {\n        text-align: right;\n    }\n</style>\n<table border=\"1\" class=\"dataframe\">\n  <thead>\n    <tr style=\"text-align: right;\">\n      <th></th>\n      <th>date</th>\n      <th>new_cases</th>\n      <th>new_deaths</th>\n      <th>new_tests</th>\n      <th>year</th>\n      <th>month</th>\n      <th>day</th>\n      <th>weekday</th>\n      <th>total_cases</th>\n      <th>total_deaths</th>\n      <th>total_tests</th>\n      <th>location</th>\n    </tr>\n  </thead>\n  <tbody>\n    <tr>\n      <th>0</th>\n      <td>2019-12-31</td>\n      <td>0.0</td>\n      <td>0.0</td>\n      <td>NaN</td>\n      <td>2019</td>\n      <td>12</td>\n      <td>31</td>\n      <td>1</td>\n      <td>0.0</td>\n      <td>0.0</td>\n      <td>NaN</td>\n      <td>Italy</td>\n    </tr>\n    <tr>\n      <th>1</th>\n      <td>2020-01-01</td>\n      <td>0.0</td>\n      <td>0.0</td>\n      <td>NaN</td>\n      <td>2020</td>\n      <td>1</td>\n      <td>1</td>\n      <td>2</td>\n      <td>0.0</td>\n      <td>0.0</td>\n      <td>NaN</td>\n      <td>Italy</td>\n    </tr>\n    <tr>\n      <th>2</th>\n      <td>2020-01-02</td>\n      <td>0.0</td>\n      <td>0.0</td>\n      <td>NaN</td>\n      <td>2020</td>\n      <td>1</td>\n      <td>2</td>\n      <td>3</td>\n      <td>0.0</td>\n      <td>0.0</td>\n      <td>NaN</td>\n      <td>Italy</td>\n    </tr>\n    <tr>\n      <th>3</th>\n      <td>2020-01-03</td>\n      <td>0.0</td>\n      <td>0.0</td>\n      <td>NaN</td>\n      <td>2020</td>\n      <td>1</td>\n      <td>3</td>\n      <td>4</td>\n      <td>0.0</td>\n      <td>0.0</td>\n      <td>NaN</td>\n      <td>Italy</td>\n    </tr>\n    <tr>\n      <th>4</th>\n      <td>2020-01-04</td>\n      <td>0.0</td>\n      <td>0.0</td>\n      <td>NaN</td>\n      <td>2020</td>\n      <td>1</td>\n      <td>4</td>\n      <td>5</td>\n      <td>0.0</td>\n      <td>0.0</td>\n      <td>NaN</td>\n      <td>Italy</td>\n    </tr>\n    <tr>\n      <th>...</th>\n      <td>...</td>\n      <td>...</td>\n      <td>...</td>\n      <td>...</td>\n      <td>...</td>\n      <td>...</td>\n      <td>...</td>\n      <td>...</td>\n      <td>...</td>\n      <td>...</td>\n      <td>...</td>\n      <td>...</td>\n    </tr>\n    <tr>\n      <th>243</th>\n      <td>2020-08-30</td>\n      <td>1444.0</td>\n      <td>1.0</td>\n      <td>53541.0</td>\n      <td>2020</td>\n      <td>8</td>\n      <td>30</td>\n      <td>6</td>\n      <td>267298.5</td>\n      <td>35473.0</td>\n      <td>5117788.0</td>\n      <td>Italy</td>\n    </tr>\n    <tr>\n      <th>244</th>\n      <td>2020-08-31</td>\n      <td>1365.0</td>\n      <td>4.0</td>\n      <td>42583.0</td>\n      <td>2020</td>\n      <td>8</td>\n      <td>31</td>\n      <td>0</td>\n      <td>268663.5</td>\n      <td>35477.0</td>\n      <td>5160371.0</td>\n      <td>Italy</td>\n    </tr>\n    <tr>\n      <th>245</th>\n      <td>2020-09-01</td>\n      <td>996.0</td>\n      <td>6.0</td>\n      <td>54395.0</td>\n      <td>2020</td>\n      <td>9</td>\n      <td>1</td>\n      <td>1</td>\n      <td>269659.5</td>\n      <td>35483.0</td>\n      <td>5214766.0</td>\n      <td>Italy</td>\n    </tr>\n    <tr>\n      <th>246</th>\n      <td>2020-09-02</td>\n      <td>975.0</td>\n      <td>8.0</td>\n      <td>NaN</td>\n      <td>2020</td>\n      <td>9</td>\n      <td>2</td>\n      <td>2</td>\n      <td>270634.5</td>\n      <td>35491.0</td>\n      <td>NaN</td>\n      <td>Italy</td>\n    </tr>\n    <tr>\n      <th>247</th>\n      <td>2020-09-03</td>\n      <td>1326.0</td>\n      <td>6.0</td>\n      <td>NaN</td>\n      <td>2020</td>\n      <td>9</td>\n      <td>3</td>\n      <td>3</td>\n      <td>271960.5</td>\n      <td>35497.0</td>\n      <td>NaN</td>\n      <td>Italy</td>\n    </tr>\n  </tbody>\n</table>\n<p>248 rows × 12 columns</p>\n</div>"
     },
     "execution_count": 48,
     "metadata": {},
     "output_type": "execute_result"
    }
   ],
   "source": [
    "covid_df['location'] = \"Italy\"\n",
    "\n",
    "covid_df"
   ],
   "metadata": {
    "collapsed": false,
    "pycharm": {
     "name": "#%%\n"
    }
   }
  },
  {
   "cell_type": "code",
   "execution_count": 49,
   "outputs": [
    {
     "data": {
      "text/plain": "          date  new_cases  new_deaths  new_tests  year  month  day  weekday  \\\n0   2019-12-31        0.0         0.0        NaN  2019     12   31        1   \n1   2020-01-01        0.0         0.0        NaN  2020      1    1        2   \n2   2020-01-02        0.0         0.0        NaN  2020      1    2        3   \n3   2020-01-03        0.0         0.0        NaN  2020      1    3        4   \n4   2020-01-04        0.0         0.0        NaN  2020      1    4        5   \n..         ...        ...         ...        ...   ...    ...  ...      ...   \n243 2020-08-30     1444.0         1.0    53541.0  2020      8   30        6   \n244 2020-08-31     1365.0         4.0    42583.0  2020      8   31        0   \n245 2020-09-01      996.0         6.0    54395.0  2020      9    1        1   \n246 2020-09-02      975.0         8.0        NaN  2020      9    2        2   \n247 2020-09-03     1326.0         6.0        NaN  2020      9    3        3   \n\n     total_cases  total_deaths  total_tests location continent  population  \\\n0            0.0           0.0          NaN    Italy    Europe  60461828.0   \n1            0.0           0.0          NaN    Italy    Europe  60461828.0   \n2            0.0           0.0          NaN    Italy    Europe  60461828.0   \n3            0.0           0.0          NaN    Italy    Europe  60461828.0   \n4            0.0           0.0          NaN    Italy    Europe  60461828.0   \n..           ...           ...          ...      ...       ...         ...   \n243     267298.5       35473.0    5117788.0    Italy    Europe  60461828.0   \n244     268663.5       35477.0    5160371.0    Italy    Europe  60461828.0   \n245     269659.5       35483.0    5214766.0    Italy    Europe  60461828.0   \n246     270634.5       35491.0          NaN    Italy    Europe  60461828.0   \n247     271960.5       35497.0          NaN    Italy    Europe  60461828.0   \n\n     life_expectancy  hospital_beds_per_thousand  gdp_per_capita  \n0              83.51                        3.18       35220.084  \n1              83.51                        3.18       35220.084  \n2              83.51                        3.18       35220.084  \n3              83.51                        3.18       35220.084  \n4              83.51                        3.18       35220.084  \n..               ...                         ...             ...  \n243            83.51                        3.18       35220.084  \n244            83.51                        3.18       35220.084  \n245            83.51                        3.18       35220.084  \n246            83.51                        3.18       35220.084  \n247            83.51                        3.18       35220.084  \n\n[248 rows x 17 columns]",
      "text/html": "<div>\n<style scoped>\n    .dataframe tbody tr th:only-of-type {\n        vertical-align: middle;\n    }\n\n    .dataframe tbody tr th {\n        vertical-align: top;\n    }\n\n    .dataframe thead th {\n        text-align: right;\n    }\n</style>\n<table border=\"1\" class=\"dataframe\">\n  <thead>\n    <tr style=\"text-align: right;\">\n      <th></th>\n      <th>date</th>\n      <th>new_cases</th>\n      <th>new_deaths</th>\n      <th>new_tests</th>\n      <th>year</th>\n      <th>month</th>\n      <th>day</th>\n      <th>weekday</th>\n      <th>total_cases</th>\n      <th>total_deaths</th>\n      <th>total_tests</th>\n      <th>location</th>\n      <th>continent</th>\n      <th>population</th>\n      <th>life_expectancy</th>\n      <th>hospital_beds_per_thousand</th>\n      <th>gdp_per_capita</th>\n    </tr>\n  </thead>\n  <tbody>\n    <tr>\n      <th>0</th>\n      <td>2019-12-31</td>\n      <td>0.0</td>\n      <td>0.0</td>\n      <td>NaN</td>\n      <td>2019</td>\n      <td>12</td>\n      <td>31</td>\n      <td>1</td>\n      <td>0.0</td>\n      <td>0.0</td>\n      <td>NaN</td>\n      <td>Italy</td>\n      <td>Europe</td>\n      <td>60461828.0</td>\n      <td>83.51</td>\n      <td>3.18</td>\n      <td>35220.084</td>\n    </tr>\n    <tr>\n      <th>1</th>\n      <td>2020-01-01</td>\n      <td>0.0</td>\n      <td>0.0</td>\n      <td>NaN</td>\n      <td>2020</td>\n      <td>1</td>\n      <td>1</td>\n      <td>2</td>\n      <td>0.0</td>\n      <td>0.0</td>\n      <td>NaN</td>\n      <td>Italy</td>\n      <td>Europe</td>\n      <td>60461828.0</td>\n      <td>83.51</td>\n      <td>3.18</td>\n      <td>35220.084</td>\n    </tr>\n    <tr>\n      <th>2</th>\n      <td>2020-01-02</td>\n      <td>0.0</td>\n      <td>0.0</td>\n      <td>NaN</td>\n      <td>2020</td>\n      <td>1</td>\n      <td>2</td>\n      <td>3</td>\n      <td>0.0</td>\n      <td>0.0</td>\n      <td>NaN</td>\n      <td>Italy</td>\n      <td>Europe</td>\n      <td>60461828.0</td>\n      <td>83.51</td>\n      <td>3.18</td>\n      <td>35220.084</td>\n    </tr>\n    <tr>\n      <th>3</th>\n      <td>2020-01-03</td>\n      <td>0.0</td>\n      <td>0.0</td>\n      <td>NaN</td>\n      <td>2020</td>\n      <td>1</td>\n      <td>3</td>\n      <td>4</td>\n      <td>0.0</td>\n      <td>0.0</td>\n      <td>NaN</td>\n      <td>Italy</td>\n      <td>Europe</td>\n      <td>60461828.0</td>\n      <td>83.51</td>\n      <td>3.18</td>\n      <td>35220.084</td>\n    </tr>\n    <tr>\n      <th>4</th>\n      <td>2020-01-04</td>\n      <td>0.0</td>\n      <td>0.0</td>\n      <td>NaN</td>\n      <td>2020</td>\n      <td>1</td>\n      <td>4</td>\n      <td>5</td>\n      <td>0.0</td>\n      <td>0.0</td>\n      <td>NaN</td>\n      <td>Italy</td>\n      <td>Europe</td>\n      <td>60461828.0</td>\n      <td>83.51</td>\n      <td>3.18</td>\n      <td>35220.084</td>\n    </tr>\n    <tr>\n      <th>...</th>\n      <td>...</td>\n      <td>...</td>\n      <td>...</td>\n      <td>...</td>\n      <td>...</td>\n      <td>...</td>\n      <td>...</td>\n      <td>...</td>\n      <td>...</td>\n      <td>...</td>\n      <td>...</td>\n      <td>...</td>\n      <td>...</td>\n      <td>...</td>\n      <td>...</td>\n      <td>...</td>\n      <td>...</td>\n    </tr>\n    <tr>\n      <th>243</th>\n      <td>2020-08-30</td>\n      <td>1444.0</td>\n      <td>1.0</td>\n      <td>53541.0</td>\n      <td>2020</td>\n      <td>8</td>\n      <td>30</td>\n      <td>6</td>\n      <td>267298.5</td>\n      <td>35473.0</td>\n      <td>5117788.0</td>\n      <td>Italy</td>\n      <td>Europe</td>\n      <td>60461828.0</td>\n      <td>83.51</td>\n      <td>3.18</td>\n      <td>35220.084</td>\n    </tr>\n    <tr>\n      <th>244</th>\n      <td>2020-08-31</td>\n      <td>1365.0</td>\n      <td>4.0</td>\n      <td>42583.0</td>\n      <td>2020</td>\n      <td>8</td>\n      <td>31</td>\n      <td>0</td>\n      <td>268663.5</td>\n      <td>35477.0</td>\n      <td>5160371.0</td>\n      <td>Italy</td>\n      <td>Europe</td>\n      <td>60461828.0</td>\n      <td>83.51</td>\n      <td>3.18</td>\n      <td>35220.084</td>\n    </tr>\n    <tr>\n      <th>245</th>\n      <td>2020-09-01</td>\n      <td>996.0</td>\n      <td>6.0</td>\n      <td>54395.0</td>\n      <td>2020</td>\n      <td>9</td>\n      <td>1</td>\n      <td>1</td>\n      <td>269659.5</td>\n      <td>35483.0</td>\n      <td>5214766.0</td>\n      <td>Italy</td>\n      <td>Europe</td>\n      <td>60461828.0</td>\n      <td>83.51</td>\n      <td>3.18</td>\n      <td>35220.084</td>\n    </tr>\n    <tr>\n      <th>246</th>\n      <td>2020-09-02</td>\n      <td>975.0</td>\n      <td>8.0</td>\n      <td>NaN</td>\n      <td>2020</td>\n      <td>9</td>\n      <td>2</td>\n      <td>2</td>\n      <td>270634.5</td>\n      <td>35491.0</td>\n      <td>NaN</td>\n      <td>Italy</td>\n      <td>Europe</td>\n      <td>60461828.0</td>\n      <td>83.51</td>\n      <td>3.18</td>\n      <td>35220.084</td>\n    </tr>\n    <tr>\n      <th>247</th>\n      <td>2020-09-03</td>\n      <td>1326.0</td>\n      <td>6.0</td>\n      <td>NaN</td>\n      <td>2020</td>\n      <td>9</td>\n      <td>3</td>\n      <td>3</td>\n      <td>271960.5</td>\n      <td>35497.0</td>\n      <td>NaN</td>\n      <td>Italy</td>\n      <td>Europe</td>\n      <td>60461828.0</td>\n      <td>83.51</td>\n      <td>3.18</td>\n      <td>35220.084</td>\n    </tr>\n  </tbody>\n</table>\n<p>248 rows × 17 columns</p>\n</div>"
     },
     "execution_count": 49,
     "metadata": {},
     "output_type": "execute_result"
    }
   ],
   "source": [
    "merged_df = covid_df.merge(locations_df, on=\"location\")\n",
    "\n",
    "merged_df"
   ],
   "metadata": {
    "collapsed": false,
    "pycharm": {
     "name": "#%%\n"
    }
   }
  },
  {
   "cell_type": "code",
   "execution_count": 50,
   "outputs": [
    {
     "data": {
      "text/plain": "          date  new_cases  new_deaths  new_tests  year  month  day  weekday  \\\n0   2019-12-31        0.0         0.0        NaN  2019     12   31        1   \n1   2020-01-01        0.0         0.0        NaN  2020      1    1        2   \n2   2020-01-02        0.0         0.0        NaN  2020      1    2        3   \n3   2020-01-03        0.0         0.0        NaN  2020      1    3        4   \n4   2020-01-04        0.0         0.0        NaN  2020      1    4        5   \n..         ...        ...         ...        ...   ...    ...  ...      ...   \n243 2020-08-30     1444.0         1.0    53541.0  2020      8   30        6   \n244 2020-08-31     1365.0         4.0    42583.0  2020      8   31        0   \n245 2020-09-01      996.0         6.0    54395.0  2020      9    1        1   \n246 2020-09-02      975.0         8.0        NaN  2020      9    2        2   \n247 2020-09-03     1326.0         6.0        NaN  2020      9    3        3   \n\n     total_cases  total_deaths  total_tests location continent  population  \\\n0            0.0           0.0          NaN    Italy    Europe  60461828.0   \n1            0.0           0.0          NaN    Italy    Europe  60461828.0   \n2            0.0           0.0          NaN    Italy    Europe  60461828.0   \n3            0.0           0.0          NaN    Italy    Europe  60461828.0   \n4            0.0           0.0          NaN    Italy    Europe  60461828.0   \n..           ...           ...          ...      ...       ...         ...   \n243     267298.5       35473.0    5117788.0    Italy    Europe  60461828.0   \n244     268663.5       35477.0    5160371.0    Italy    Europe  60461828.0   \n245     269659.5       35483.0    5214766.0    Italy    Europe  60461828.0   \n246     270634.5       35491.0          NaN    Italy    Europe  60461828.0   \n247     271960.5       35497.0          NaN    Italy    Europe  60461828.0   \n\n     life_expectancy  hospital_beds_per_thousand  gdp_per_capita  \\\n0              83.51                        3.18       35220.084   \n1              83.51                        3.18       35220.084   \n2              83.51                        3.18       35220.084   \n3              83.51                        3.18       35220.084   \n4              83.51                        3.18       35220.084   \n..               ...                         ...             ...   \n243            83.51                        3.18       35220.084   \n244            83.51                        3.18       35220.084   \n245            83.51                        3.18       35220.084   \n246            83.51                        3.18       35220.084   \n247            83.51                        3.18       35220.084   \n\n     cases_per_million  deaths_per_million  tests_per_million  \n0             0.000000            0.000000                NaN  \n1             0.000000            0.000000                NaN  \n2             0.000000            0.000000                NaN  \n3             0.000000            0.000000                NaN  \n4             0.000000            0.000000                NaN  \n..                 ...                 ...                ...  \n243        4420.946386          586.700753       84644.943252  \n244        4443.522614          586.766910       85349.238862  \n245        4459.995818          586.866146       86248.897403  \n246        4476.121695          586.998461                NaN  \n247        4498.052887          587.097697                NaN  \n\n[248 rows x 20 columns]",
      "text/html": "<div>\n<style scoped>\n    .dataframe tbody tr th:only-of-type {\n        vertical-align: middle;\n    }\n\n    .dataframe tbody tr th {\n        vertical-align: top;\n    }\n\n    .dataframe thead th {\n        text-align: right;\n    }\n</style>\n<table border=\"1\" class=\"dataframe\">\n  <thead>\n    <tr style=\"text-align: right;\">\n      <th></th>\n      <th>date</th>\n      <th>new_cases</th>\n      <th>new_deaths</th>\n      <th>new_tests</th>\n      <th>year</th>\n      <th>month</th>\n      <th>day</th>\n      <th>weekday</th>\n      <th>total_cases</th>\n      <th>total_deaths</th>\n      <th>total_tests</th>\n      <th>location</th>\n      <th>continent</th>\n      <th>population</th>\n      <th>life_expectancy</th>\n      <th>hospital_beds_per_thousand</th>\n      <th>gdp_per_capita</th>\n      <th>cases_per_million</th>\n      <th>deaths_per_million</th>\n      <th>tests_per_million</th>\n    </tr>\n  </thead>\n  <tbody>\n    <tr>\n      <th>0</th>\n      <td>2019-12-31</td>\n      <td>0.0</td>\n      <td>0.0</td>\n      <td>NaN</td>\n      <td>2019</td>\n      <td>12</td>\n      <td>31</td>\n      <td>1</td>\n      <td>0.0</td>\n      <td>0.0</td>\n      <td>NaN</td>\n      <td>Italy</td>\n      <td>Europe</td>\n      <td>60461828.0</td>\n      <td>83.51</td>\n      <td>3.18</td>\n      <td>35220.084</td>\n      <td>0.000000</td>\n      <td>0.000000</td>\n      <td>NaN</td>\n    </tr>\n    <tr>\n      <th>1</th>\n      <td>2020-01-01</td>\n      <td>0.0</td>\n      <td>0.0</td>\n      <td>NaN</td>\n      <td>2020</td>\n      <td>1</td>\n      <td>1</td>\n      <td>2</td>\n      <td>0.0</td>\n      <td>0.0</td>\n      <td>NaN</td>\n      <td>Italy</td>\n      <td>Europe</td>\n      <td>60461828.0</td>\n      <td>83.51</td>\n      <td>3.18</td>\n      <td>35220.084</td>\n      <td>0.000000</td>\n      <td>0.000000</td>\n      <td>NaN</td>\n    </tr>\n    <tr>\n      <th>2</th>\n      <td>2020-01-02</td>\n      <td>0.0</td>\n      <td>0.0</td>\n      <td>NaN</td>\n      <td>2020</td>\n      <td>1</td>\n      <td>2</td>\n      <td>3</td>\n      <td>0.0</td>\n      <td>0.0</td>\n      <td>NaN</td>\n      <td>Italy</td>\n      <td>Europe</td>\n      <td>60461828.0</td>\n      <td>83.51</td>\n      <td>3.18</td>\n      <td>35220.084</td>\n      <td>0.000000</td>\n      <td>0.000000</td>\n      <td>NaN</td>\n    </tr>\n    <tr>\n      <th>3</th>\n      <td>2020-01-03</td>\n      <td>0.0</td>\n      <td>0.0</td>\n      <td>NaN</td>\n      <td>2020</td>\n      <td>1</td>\n      <td>3</td>\n      <td>4</td>\n      <td>0.0</td>\n      <td>0.0</td>\n      <td>NaN</td>\n      <td>Italy</td>\n      <td>Europe</td>\n      <td>60461828.0</td>\n      <td>83.51</td>\n      <td>3.18</td>\n      <td>35220.084</td>\n      <td>0.000000</td>\n      <td>0.000000</td>\n      <td>NaN</td>\n    </tr>\n    <tr>\n      <th>4</th>\n      <td>2020-01-04</td>\n      <td>0.0</td>\n      <td>0.0</td>\n      <td>NaN</td>\n      <td>2020</td>\n      <td>1</td>\n      <td>4</td>\n      <td>5</td>\n      <td>0.0</td>\n      <td>0.0</td>\n      <td>NaN</td>\n      <td>Italy</td>\n      <td>Europe</td>\n      <td>60461828.0</td>\n      <td>83.51</td>\n      <td>3.18</td>\n      <td>35220.084</td>\n      <td>0.000000</td>\n      <td>0.000000</td>\n      <td>NaN</td>\n    </tr>\n    <tr>\n      <th>...</th>\n      <td>...</td>\n      <td>...</td>\n      <td>...</td>\n      <td>...</td>\n      <td>...</td>\n      <td>...</td>\n      <td>...</td>\n      <td>...</td>\n      <td>...</td>\n      <td>...</td>\n      <td>...</td>\n      <td>...</td>\n      <td>...</td>\n      <td>...</td>\n      <td>...</td>\n      <td>...</td>\n      <td>...</td>\n      <td>...</td>\n      <td>...</td>\n      <td>...</td>\n    </tr>\n    <tr>\n      <th>243</th>\n      <td>2020-08-30</td>\n      <td>1444.0</td>\n      <td>1.0</td>\n      <td>53541.0</td>\n      <td>2020</td>\n      <td>8</td>\n      <td>30</td>\n      <td>6</td>\n      <td>267298.5</td>\n      <td>35473.0</td>\n      <td>5117788.0</td>\n      <td>Italy</td>\n      <td>Europe</td>\n      <td>60461828.0</td>\n      <td>83.51</td>\n      <td>3.18</td>\n      <td>35220.084</td>\n      <td>4420.946386</td>\n      <td>586.700753</td>\n      <td>84644.943252</td>\n    </tr>\n    <tr>\n      <th>244</th>\n      <td>2020-08-31</td>\n      <td>1365.0</td>\n      <td>4.0</td>\n      <td>42583.0</td>\n      <td>2020</td>\n      <td>8</td>\n      <td>31</td>\n      <td>0</td>\n      <td>268663.5</td>\n      <td>35477.0</td>\n      <td>5160371.0</td>\n      <td>Italy</td>\n      <td>Europe</td>\n      <td>60461828.0</td>\n      <td>83.51</td>\n      <td>3.18</td>\n      <td>35220.084</td>\n      <td>4443.522614</td>\n      <td>586.766910</td>\n      <td>85349.238862</td>\n    </tr>\n    <tr>\n      <th>245</th>\n      <td>2020-09-01</td>\n      <td>996.0</td>\n      <td>6.0</td>\n      <td>54395.0</td>\n      <td>2020</td>\n      <td>9</td>\n      <td>1</td>\n      <td>1</td>\n      <td>269659.5</td>\n      <td>35483.0</td>\n      <td>5214766.0</td>\n      <td>Italy</td>\n      <td>Europe</td>\n      <td>60461828.0</td>\n      <td>83.51</td>\n      <td>3.18</td>\n      <td>35220.084</td>\n      <td>4459.995818</td>\n      <td>586.866146</td>\n      <td>86248.897403</td>\n    </tr>\n    <tr>\n      <th>246</th>\n      <td>2020-09-02</td>\n      <td>975.0</td>\n      <td>8.0</td>\n      <td>NaN</td>\n      <td>2020</td>\n      <td>9</td>\n      <td>2</td>\n      <td>2</td>\n      <td>270634.5</td>\n      <td>35491.0</td>\n      <td>NaN</td>\n      <td>Italy</td>\n      <td>Europe</td>\n      <td>60461828.0</td>\n      <td>83.51</td>\n      <td>3.18</td>\n      <td>35220.084</td>\n      <td>4476.121695</td>\n      <td>586.998461</td>\n      <td>NaN</td>\n    </tr>\n    <tr>\n      <th>247</th>\n      <td>2020-09-03</td>\n      <td>1326.0</td>\n      <td>6.0</td>\n      <td>NaN</td>\n      <td>2020</td>\n      <td>9</td>\n      <td>3</td>\n      <td>3</td>\n      <td>271960.5</td>\n      <td>35497.0</td>\n      <td>NaN</td>\n      <td>Italy</td>\n      <td>Europe</td>\n      <td>60461828.0</td>\n      <td>83.51</td>\n      <td>3.18</td>\n      <td>35220.084</td>\n      <td>4498.052887</td>\n      <td>587.097697</td>\n      <td>NaN</td>\n    </tr>\n  </tbody>\n</table>\n<p>248 rows × 20 columns</p>\n</div>"
     },
     "execution_count": 50,
     "metadata": {},
     "output_type": "execute_result"
    }
   ],
   "source": [
    "merged_df['cases_per_million'] = merged_df.total_cases * 1e6 / merged_df.population\n",
    "merged_df['deaths_per_million'] = merged_df.total_deaths * 1e6 / merged_df.population\n",
    "merged_df['tests_per_million'] = merged_df.total_tests * 1e6 / merged_df.population\n",
    "\n",
    "merged_df"
   ],
   "metadata": {
    "collapsed": false,
    "pycharm": {
     "name": "#%%\n"
    }
   }
  },
  {
   "cell_type": "code",
   "execution_count": 51,
   "outputs": [
    {
     "data": {
      "text/plain": "          date  new_cases  total_cases  new_deaths  total_deaths  new_tests  \\\n0   2019-12-31        0.0          0.0         0.0           0.0        NaN   \n1   2020-01-01        0.0          0.0         0.0           0.0        NaN   \n2   2020-01-02        0.0          0.0         0.0           0.0        NaN   \n3   2020-01-03        0.0          0.0         0.0           0.0        NaN   \n4   2020-01-04        0.0          0.0         0.0           0.0        NaN   \n..         ...        ...          ...         ...           ...        ...   \n243 2020-08-30     1444.0     267298.5         1.0       35473.0    53541.0   \n244 2020-08-31     1365.0     268663.5         4.0       35477.0    42583.0   \n245 2020-09-01      996.0     269659.5         6.0       35483.0    54395.0   \n246 2020-09-02      975.0     270634.5         8.0       35491.0        NaN   \n247 2020-09-03     1326.0     271960.5         6.0       35497.0        NaN   \n\n     total_tests  cases_per_million  deaths_per_million  tests_per_million  \n0            NaN           0.000000            0.000000                NaN  \n1            NaN           0.000000            0.000000                NaN  \n2            NaN           0.000000            0.000000                NaN  \n3            NaN           0.000000            0.000000                NaN  \n4            NaN           0.000000            0.000000                NaN  \n..           ...                ...                 ...                ...  \n243    5117788.0        4420.946386          586.700753       84644.943252  \n244    5160371.0        4443.522614          586.766910       85349.238862  \n245    5214766.0        4459.995818          586.866146       86248.897403  \n246          NaN        4476.121695          586.998461                NaN  \n247          NaN        4498.052887          587.097697                NaN  \n\n[248 rows x 10 columns]",
      "text/html": "<div>\n<style scoped>\n    .dataframe tbody tr th:only-of-type {\n        vertical-align: middle;\n    }\n\n    .dataframe tbody tr th {\n        vertical-align: top;\n    }\n\n    .dataframe thead th {\n        text-align: right;\n    }\n</style>\n<table border=\"1\" class=\"dataframe\">\n  <thead>\n    <tr style=\"text-align: right;\">\n      <th></th>\n      <th>date</th>\n      <th>new_cases</th>\n      <th>total_cases</th>\n      <th>new_deaths</th>\n      <th>total_deaths</th>\n      <th>new_tests</th>\n      <th>total_tests</th>\n      <th>cases_per_million</th>\n      <th>deaths_per_million</th>\n      <th>tests_per_million</th>\n    </tr>\n  </thead>\n  <tbody>\n    <tr>\n      <th>0</th>\n      <td>2019-12-31</td>\n      <td>0.0</td>\n      <td>0.0</td>\n      <td>0.0</td>\n      <td>0.0</td>\n      <td>NaN</td>\n      <td>NaN</td>\n      <td>0.000000</td>\n      <td>0.000000</td>\n      <td>NaN</td>\n    </tr>\n    <tr>\n      <th>1</th>\n      <td>2020-01-01</td>\n      <td>0.0</td>\n      <td>0.0</td>\n      <td>0.0</td>\n      <td>0.0</td>\n      <td>NaN</td>\n      <td>NaN</td>\n      <td>0.000000</td>\n      <td>0.000000</td>\n      <td>NaN</td>\n    </tr>\n    <tr>\n      <th>2</th>\n      <td>2020-01-02</td>\n      <td>0.0</td>\n      <td>0.0</td>\n      <td>0.0</td>\n      <td>0.0</td>\n      <td>NaN</td>\n      <td>NaN</td>\n      <td>0.000000</td>\n      <td>0.000000</td>\n      <td>NaN</td>\n    </tr>\n    <tr>\n      <th>3</th>\n      <td>2020-01-03</td>\n      <td>0.0</td>\n      <td>0.0</td>\n      <td>0.0</td>\n      <td>0.0</td>\n      <td>NaN</td>\n      <td>NaN</td>\n      <td>0.000000</td>\n      <td>0.000000</td>\n      <td>NaN</td>\n    </tr>\n    <tr>\n      <th>4</th>\n      <td>2020-01-04</td>\n      <td>0.0</td>\n      <td>0.0</td>\n      <td>0.0</td>\n      <td>0.0</td>\n      <td>NaN</td>\n      <td>NaN</td>\n      <td>0.000000</td>\n      <td>0.000000</td>\n      <td>NaN</td>\n    </tr>\n    <tr>\n      <th>...</th>\n      <td>...</td>\n      <td>...</td>\n      <td>...</td>\n      <td>...</td>\n      <td>...</td>\n      <td>...</td>\n      <td>...</td>\n      <td>...</td>\n      <td>...</td>\n      <td>...</td>\n    </tr>\n    <tr>\n      <th>243</th>\n      <td>2020-08-30</td>\n      <td>1444.0</td>\n      <td>267298.5</td>\n      <td>1.0</td>\n      <td>35473.0</td>\n      <td>53541.0</td>\n      <td>5117788.0</td>\n      <td>4420.946386</td>\n      <td>586.700753</td>\n      <td>84644.943252</td>\n    </tr>\n    <tr>\n      <th>244</th>\n      <td>2020-08-31</td>\n      <td>1365.0</td>\n      <td>268663.5</td>\n      <td>4.0</td>\n      <td>35477.0</td>\n      <td>42583.0</td>\n      <td>5160371.0</td>\n      <td>4443.522614</td>\n      <td>586.766910</td>\n      <td>85349.238862</td>\n    </tr>\n    <tr>\n      <th>245</th>\n      <td>2020-09-01</td>\n      <td>996.0</td>\n      <td>269659.5</td>\n      <td>6.0</td>\n      <td>35483.0</td>\n      <td>54395.0</td>\n      <td>5214766.0</td>\n      <td>4459.995818</td>\n      <td>586.866146</td>\n      <td>86248.897403</td>\n    </tr>\n    <tr>\n      <th>246</th>\n      <td>2020-09-02</td>\n      <td>975.0</td>\n      <td>270634.5</td>\n      <td>8.0</td>\n      <td>35491.0</td>\n      <td>NaN</td>\n      <td>NaN</td>\n      <td>4476.121695</td>\n      <td>586.998461</td>\n      <td>NaN</td>\n    </tr>\n    <tr>\n      <th>247</th>\n      <td>2020-09-03</td>\n      <td>1326.0</td>\n      <td>271960.5</td>\n      <td>6.0</td>\n      <td>35497.0</td>\n      <td>NaN</td>\n      <td>NaN</td>\n      <td>4498.052887</td>\n      <td>587.097697</td>\n      <td>NaN</td>\n    </tr>\n  </tbody>\n</table>\n<p>248 rows × 10 columns</p>\n</div>"
     },
     "execution_count": 51,
     "metadata": {},
     "output_type": "execute_result"
    }
   ],
   "source": [
    "result_df = merged_df[[\n",
    "    'date',\n",
    "    'new_cases',\n",
    "    'total_cases',\n",
    "    'new_deaths',\n",
    "    'total_deaths',\n",
    "    'new_tests',\n",
    "    'total_tests',\n",
    "    'cases_per_million',\n",
    "    'deaths_per_million',\n",
    "    'tests_per_million'\n",
    "]]\n",
    "\n",
    "result_df"
   ],
   "metadata": {
    "collapsed": false,
    "pycharm": {
     "name": "#%%\n"
    }
   }
  },
  {
   "cell_type": "code",
   "execution_count": 52,
   "outputs": [],
   "source": [
    "result_df.to_csv('results.csv', index=None)"
   ],
   "metadata": {
    "collapsed": false,
    "pycharm": {
     "name": "#%%\n"
    }
   }
  }
 ],
 "metadata": {
  "kernelspec": {
   "display_name": "Python 3",
   "language": "python",
   "name": "python3"
  },
  "language_info": {
   "codemirror_mode": {
    "name": "ipython",
    "version": 3
   },
   "file_extension": ".py",
   "mimetype": "text/x-python",
   "name": "python",
   "nbconvert_exporter": "python",
   "pygments_lexer": "ipython3",
   "version": "3.10.1"
  }
 },
 "nbformat": 4,
 "nbformat_minor": 0
}