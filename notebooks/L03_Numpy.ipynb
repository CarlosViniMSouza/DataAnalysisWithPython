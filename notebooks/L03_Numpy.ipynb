{
 "cells": [
  {
   "cell_type": "markdown",
   "metadata": {
    "collapsed": true,
    "pycharm": {
     "name": "#%% md\n"
    }
   },
   "source": [
    "# Numerical Computing with Python and Numpy\n",
    "\n",
    "![](https://i.imgur.com/mg8O3kd.png)\n",
    "\n",
    "### Part 6 of \"Data Analysis with Python: Zero to Pandas\"\n",
    "\n",
    "\n",
    "This tutorial series is a beginner-friendly introduction to programming and data analysis using the Python programming language. These tutorials take a practical and coding-focused approach. The best way to learn the material is to execute the code and experiment with it yourself. Check out the full series here:\n",
    "\n",
    "1. [First Steps with Python and Jupyter](https://jovian.ai/aakashns/first-steps-with-python)\n",
    "2. [A Quick Tour of Variables and Data Types](https://jovian.ai/aakashns/python-variables-and-data-types)\n",
    "3. [Branching using Conditional Statements and Loops](https://jovian.ai/aakashns/python-branching-and-loops)\n",
    "4. [Writing Reusable Code Using Functions](https://jovian.ai/aakashns/python-functions-and-scope)\n",
    "5. [Reading from and Writing to Files](https://jovian.ai/aakashns/python-os-and-filesystem)\n",
    "6. [Numerical Computing with Python and Numpy](https://jovian.ai/aakashns/python-numerical-computing-with-numpy)\n",
    "7. [Analyzing Tabular Data using Pandas](https://jovian.ai/aakashns/python-pandas-data-analysis)\n",
    "8. [Data Visualization using Matplotlib & Seaborn](https://jovian.ai/aakashns/python-matplotlib-data-visualization)\n",
    "9. [Exploratory Data Analysis - A Case Study](https://jovian.ai/aakashns/python-eda-stackoverflow-survey)"
   ]
  },
  {
   "cell_type": "code",
   "execution_count": 1,
   "metadata": {
    "pycharm": {
     "name": "#%%\n"
    }
   },
   "outputs": [],
   "source": [
    "# Based on some statical analysis of historical data, we might come up with reasonable values for the weights w1, w2, and w3. Here's an example set of values:\n",
    "\n",
    "w1, w2, w3 = 0.3, 0.2, 0.5"
   ]
  },
  {
   "cell_type": "code",
   "execution_count": 3,
   "metadata": {},
   "outputs": [],
   "source": [
    "# To begin, we can define some variables to record climate data for a region.\n",
    "\n",
    "kanto_temp = 73\n",
    "kanto_rainfall = 67\n",
    "kanto_humidity = 43"
   ]
  },
  {
   "cell_type": "code",
   "execution_count": 4,
   "metadata": {},
   "outputs": [
    {
     "data": {
      "text/plain": [
       "56.8"
      ]
     },
     "execution_count": 4,
     "metadata": {},
     "output_type": "execute_result"
    }
   ],
   "source": [
    "# We can now substitute these variables into the linear equation to predict the yield of apples.\n",
    "\n",
    "kanto_yield_apples = kanto_temp * w1 + kanto_rainfall * w2 + kanto_humidity * w3\n",
    "kanto_yield_apples"
   ]
  },
  {
   "cell_type": "code",
   "execution_count": 5,
   "metadata": {},
   "outputs": [],
   "source": [
    "# To make it slightly easier to perform the above computation for multiple regions, \n",
    "# we can represent the climate data for each region as a vector, i.e., a list of numbers.\n",
    "\n",
    "kanto = [73, 67, 43]\n",
    "johto = [91, 88, 64]\n",
    "hoenn = [87, 134, 58]\n",
    "sinnoh = [102, 43, 37]\n",
    "unova = [69, 96, 70]"
   ]
  },
  {
   "cell_type": "code",
   "execution_count": 8,
   "metadata": {},
   "outputs": [],
   "source": [
    "weights = [w1, w2, w3]\n",
    "\n",
    "def crop_yield(region, weights):\n",
    "    result = 0\n",
    "    for x, w in zip(region, weights):\n",
    "        result += x * w\n",
    "    return result"
   ]
  },
  {
   "cell_type": "code",
   "execution_count": 9,
   "metadata": {},
   "outputs": [
    {
     "data": {
      "text/plain": [
       "56.8"
      ]
     },
     "execution_count": 9,
     "metadata": {},
     "output_type": "execute_result"
    }
   ],
   "source": [
    "crop_yield(kanto, weights)"
   ]
  },
  {
   "cell_type": "code",
   "execution_count": 10,
   "metadata": {},
   "outputs": [
    {
     "data": {
      "text/plain": [
       "76.9"
      ]
     },
     "execution_count": 10,
     "metadata": {},
     "output_type": "execute_result"
    }
   ],
   "source": [
    "crop_yield(johto, weights)"
   ]
  },
  {
   "cell_type": "code",
   "execution_count": 11,
   "metadata": {},
   "outputs": [
    {
     "data": {
      "text/plain": [
       "74.9"
      ]
     },
     "execution_count": 11,
     "metadata": {},
     "output_type": "execute_result"
    }
   ],
   "source": [
    "crop_yield(unova, weights)"
   ]
  }
 ],
 "metadata": {
  "kernelspec": {
   "display_name": "Python 3 (ipykernel)",
   "language": "python",
   "name": "python3"
  },
  "language_info": {
   "codemirror_mode": {
    "name": "ipython",
    "version": 3
   },
   "file_extension": ".py",
   "mimetype": "text/x-python",
   "name": "python",
   "nbconvert_exporter": "python",
   "pygments_lexer": "ipython3",
   "version": "3.10.1"
  }
 },
 "nbformat": 4,
 "nbformat_minor": 1
}