{
 "cells": [
  {
   "cell_type": "code",
   "execution_count": null,
   "metadata": {},
   "outputs": [],
   "source": [
    "print(\"Testing file .ipynb in VS Code!\")"
   ]
  }
 ],
 "metadata": {
  "interpreter": {
   "hash": "dcda081dbb05a493f53bed6562f9b2445c72179fc3ed88fb61c8e7e5aa983011"
  },
  "kernelspec": {
   "display_name": "Python 3.10.1 64-bit ('venv': venv)",
   "language": "python",
   "name": "python3"
  },
  "language_info": {
   "name": "python",
   "version": "3.10.1"
  },
  "orig_nbformat": 4
 },
 "nbformat": 4,
 "nbformat_minor": 2
}
